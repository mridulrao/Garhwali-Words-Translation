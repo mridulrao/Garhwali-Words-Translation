{
 "cells": [
  {
   "cell_type": "code",
   "execution_count": 37,
   "id": "2b3db307",
   "metadata": {},
   "outputs": [],
   "source": [
    "from sklearn import svm\n",
    "import numpy as np\n",
    "import pandas as pd\n",
    "import re\n",
    "import random\n",
    "import pickle"
   ]
  },
  {
   "cell_type": "code",
   "execution_count": 2,
   "id": "d54e1433",
   "metadata": {},
   "outputs": [],
   "source": [
    "files = ['DS_1.csv', 'DS_2.csv', 'DS_3.csv', 'DS_4.csv', 'DS_5.csv', 'DS_6.csv', 'DS_7.csv', 'DS_8.csv', \n",
    "         'DS_9.csv', 'DS_10.csv', 'DS_11.csv', 'DS_12.csv', 'DS_13.csv', 'DS_14.csv', 'DS_15.csv', 'DS_16.csv',\n",
    "         'DS_17.csv', 'DS_18.csv', 'DS_19.csv', 'DS_20.csv', 'DS_21.csv', 'DS_22.csv']\n",
    "\n",
    "df = pd.DataFrame()\n",
    "\n",
    "for file in files:\n",
    "    data = pd.read_csv(file)\n",
    "    df = pd.concat([df, data], axis=0)"
   ]
  },
  {
   "cell_type": "code",
   "execution_count": 3,
   "id": "b9d232d4",
   "metadata": {},
   "outputs": [
    {
     "data": {
      "text/html": [
       "<div>\n",
       "<style scoped>\n",
       "    .dataframe tbody tr th:only-of-type {\n",
       "        vertical-align: middle;\n",
       "    }\n",
       "\n",
       "    .dataframe tbody tr th {\n",
       "        vertical-align: top;\n",
       "    }\n",
       "\n",
       "    .dataframe thead th {\n",
       "        text-align: right;\n",
       "    }\n",
       "</style>\n",
       "<table border=\"1\" class=\"dataframe\">\n",
       "  <thead>\n",
       "    <tr style=\"text-align: right;\">\n",
       "      <th></th>\n",
       "      <th>Word</th>\n",
       "      <th>Word POS</th>\n",
       "      <th>Sense</th>\n",
       "      <th>Feature Vector</th>\n",
       "      <th>Label</th>\n",
       "    </tr>\n",
       "  </thead>\n",
       "  <tbody>\n",
       "    <tr>\n",
       "      <th>35</th>\n",
       "      <td>फीका</td>\n",
       "      <td>a</td>\n",
       "      <td>pale.v.01</td>\n",
       "      <td>[0. 0. 0. 0. 0. 0. 0.]</td>\n",
       "      <td>0</td>\n",
       "    </tr>\n",
       "    <tr>\n",
       "      <th>398</th>\n",
       "      <td>अतिरिक्त</td>\n",
       "      <td>a</td>\n",
       "      <td>extra.r.01</td>\n",
       "      <td>[0.  0.  0.  0.  0.7 0.  0. ]</td>\n",
       "      <td>0</td>\n",
       "    </tr>\n",
       "    <tr>\n",
       "      <th>169</th>\n",
       "      <td>झुकाव</td>\n",
       "      <td>n</td>\n",
       "      <td>cant.v.01</td>\n",
       "      <td>[0. 0. 0. 0. 0. 0. 0.]</td>\n",
       "      <td>0</td>\n",
       "    </tr>\n",
       "    <tr>\n",
       "      <th>1759</th>\n",
       "      <td>ठहराना</td>\n",
       "      <td>v</td>\n",
       "      <td>catch.n.06</td>\n",
       "      <td>[0. 0. 0. 0. 0. 0. 0.]</td>\n",
       "      <td>0</td>\n",
       "    </tr>\n",
       "    <tr>\n",
       "      <th>783</th>\n",
       "      <td>चाक</td>\n",
       "      <td>n</td>\n",
       "      <td>wheel.n.03</td>\n",
       "      <td>[ 1.          0.          5.15555556  1.      ...</td>\n",
       "      <td>0</td>\n",
       "    </tr>\n",
       "    <tr>\n",
       "      <th>...</th>\n",
       "      <td>...</td>\n",
       "      <td>...</td>\n",
       "      <td>...</td>\n",
       "      <td>...</td>\n",
       "      <td>...</td>\n",
       "    </tr>\n",
       "    <tr>\n",
       "      <th>349</th>\n",
       "      <td>स्वभाव</td>\n",
       "      <td>n</td>\n",
       "      <td>character.n.08</td>\n",
       "      <td>[1.         0.         3.01785714 1.         0...</td>\n",
       "      <td>0</td>\n",
       "    </tr>\n",
       "    <tr>\n",
       "      <th>143</th>\n",
       "      <td>निर्णय</td>\n",
       "      <td>n</td>\n",
       "      <td>judgment.n.02</td>\n",
       "      <td>[1.         0.         4.46666667 1.         1...</td>\n",
       "      <td>0</td>\n",
       "    </tr>\n",
       "    <tr>\n",
       "      <th>164</th>\n",
       "      <td>समाप्त</td>\n",
       "      <td>a</td>\n",
       "      <td>finished.a.01</td>\n",
       "      <td>[1.         0.         0.28571429 0.         0...</td>\n",
       "      <td>1</td>\n",
       "    </tr>\n",
       "    <tr>\n",
       "      <th>446</th>\n",
       "      <td>बचाव</td>\n",
       "      <td>n</td>\n",
       "      <td>guard.n.06</td>\n",
       "      <td>[ 1.          0.          6.66666667  1.      ...</td>\n",
       "      <td>0</td>\n",
       "    </tr>\n",
       "    <tr>\n",
       "      <th>1872</th>\n",
       "      <td>ठहराना</td>\n",
       "      <td>v</td>\n",
       "      <td>stop.v.01</td>\n",
       "      <td>[1.         0.         2.24520468 1.         0...</td>\n",
       "      <td>0</td>\n",
       "    </tr>\n",
       "  </tbody>\n",
       "</table>\n",
       "<p>18037 rows × 5 columns</p>\n",
       "</div>"
      ],
      "text/plain": [
       "          Word Word POS           Sense  \\\n",
       "35        फीका        a       pale.v.01   \n",
       "398   अतिरिक्त        a      extra.r.01   \n",
       "169      झुकाव        n       cant.v.01   \n",
       "1759    ठहराना        v      catch.n.06   \n",
       "783        चाक        n      wheel.n.03   \n",
       "...        ...      ...             ...   \n",
       "349     स्वभाव        n  character.n.08   \n",
       "143     निर्णय        n   judgment.n.02   \n",
       "164     समाप्त        a   finished.a.01   \n",
       "446       बचाव        n      guard.n.06   \n",
       "1872    ठहराना        v       stop.v.01   \n",
       "\n",
       "                                         Feature Vector  Label  \n",
       "35                               [0. 0. 0. 0. 0. 0. 0.]      0  \n",
       "398                       [0.  0.  0.  0.  0.7 0.  0. ]      0  \n",
       "169                              [0. 0. 0. 0. 0. 0. 0.]      0  \n",
       "1759                             [0. 0. 0. 0. 0. 0. 0.]      0  \n",
       "783   [ 1.          0.          5.15555556  1.      ...      0  \n",
       "...                                                 ...    ...  \n",
       "349   [1.         0.         3.01785714 1.         0...      0  \n",
       "143   [1.         0.         4.46666667 1.         1...      0  \n",
       "164   [1.         0.         0.28571429 0.         0...      1  \n",
       "446   [ 1.          0.          6.66666667  1.      ...      0  \n",
       "1872  [1.         0.         2.24520468 1.         0...      0  \n",
       "\n",
       "[18037 rows x 5 columns]"
      ]
     },
     "execution_count": 3,
     "metadata": {},
     "output_type": "execute_result"
    }
   ],
   "source": [
    "df = df.drop(['Unnamed: 0'], axis = 1)\n",
    "df = df.sample(frac = 1)\n",
    "df"
   ]
  },
  {
   "cell_type": "code",
   "execution_count": 4,
   "id": "06df2b36",
   "metadata": {},
   "outputs": [],
   "source": [
    "feature_vectors = []\n",
    "label = []\n",
    "for i in range(len(df)):\n",
    "    if df['Label'].iloc[i] == 1:\n",
    "        vector = df['Feature Vector'].iloc[i]\n",
    "        pos = re.findall(\"\\d*\\.\\d*\", vector)\n",
    "        vals = []\n",
    "        for val in pos:\n",
    "            vals.append(float(val))\n",
    "        \n",
    "        feature_vectors.append(np.array(vals))\n",
    "        label.append(1)"
   ]
  },
  {
   "cell_type": "code",
   "execution_count": 5,
   "id": "46fe4764",
   "metadata": {},
   "outputs": [
    {
     "name": "stdout",
     "output_type": "stream",
     "text": [
      "1027\n",
      "1027\n"
     ]
    }
   ],
   "source": [
    "print(len(feature_vectors))\n",
    "print(len(label))"
   ]
  },
  {
   "cell_type": "code",
   "execution_count": 6,
   "id": "57bcf433",
   "metadata": {},
   "outputs": [],
   "source": [
    "false_count = len(label)\n",
    "count = 0\n",
    "for i in range(len(df)):\n",
    "    if count <= false_count:\n",
    "        if df['Label'].iloc[i] == 0:\n",
    "            vector = df['Feature Vector'].iloc[i]\n",
    "            pos = re.findall(\"\\d*\\.\\d*\", vector)\n",
    "            vals = []\n",
    "            for val in pos:\n",
    "                vals.append(float(val))\n",
    "\n",
    "            feature_vectors.append(np.array(vals))\n",
    "            label.append(0)\n",
    "            count += 1"
   ]
  },
  {
   "cell_type": "code",
   "execution_count": 7,
   "id": "af7cadd4",
   "metadata": {},
   "outputs": [
    {
     "name": "stdout",
     "output_type": "stream",
     "text": [
      "2055\n",
      "2055\n"
     ]
    }
   ],
   "source": [
    "print(len(feature_vectors))\n",
    "print(len(label))"
   ]
  },
  {
   "cell_type": "code",
   "execution_count": 8,
   "id": "b4ae4aeb",
   "metadata": {},
   "outputs": [],
   "source": [
    "random.shuffle(feature_vectors)\n",
    "random.shuffle(label)\n",
    "X = feature_vectors\n",
    "Y = label"
   ]
  },
  {
   "cell_type": "code",
   "execution_count": 9,
   "id": "ce60822e",
   "metadata": {},
   "outputs": [],
   "source": [
    "from sklearn.model_selection import train_test_split\n",
    "X_train, X_test, Y_train, Y_test = train_test_split(X, Y, test_size=0.1, random_state=42)"
   ]
  },
  {
   "cell_type": "code",
   "execution_count": 10,
   "id": "fc3e4d59",
   "metadata": {},
   "outputs": [
    {
     "data": {
      "text/html": [
       "<style>#sk-container-id-1 {color: black;background-color: white;}#sk-container-id-1 pre{padding: 0;}#sk-container-id-1 div.sk-toggleable {background-color: white;}#sk-container-id-1 label.sk-toggleable__label {cursor: pointer;display: block;width: 100%;margin-bottom: 0;padding: 0.3em;box-sizing: border-box;text-align: center;}#sk-container-id-1 label.sk-toggleable__label-arrow:before {content: \"▸\";float: left;margin-right: 0.25em;color: #696969;}#sk-container-id-1 label.sk-toggleable__label-arrow:hover:before {color: black;}#sk-container-id-1 div.sk-estimator:hover label.sk-toggleable__label-arrow:before {color: black;}#sk-container-id-1 div.sk-toggleable__content {max-height: 0;max-width: 0;overflow: hidden;text-align: left;background-color: #f0f8ff;}#sk-container-id-1 div.sk-toggleable__content pre {margin: 0.2em;color: black;border-radius: 0.25em;background-color: #f0f8ff;}#sk-container-id-1 input.sk-toggleable__control:checked~div.sk-toggleable__content {max-height: 200px;max-width: 100%;overflow: auto;}#sk-container-id-1 input.sk-toggleable__control:checked~label.sk-toggleable__label-arrow:before {content: \"▾\";}#sk-container-id-1 div.sk-estimator input.sk-toggleable__control:checked~label.sk-toggleable__label {background-color: #d4ebff;}#sk-container-id-1 div.sk-label input.sk-toggleable__control:checked~label.sk-toggleable__label {background-color: #d4ebff;}#sk-container-id-1 input.sk-hidden--visually {border: 0;clip: rect(1px 1px 1px 1px);clip: rect(1px, 1px, 1px, 1px);height: 1px;margin: -1px;overflow: hidden;padding: 0;position: absolute;width: 1px;}#sk-container-id-1 div.sk-estimator {font-family: monospace;background-color: #f0f8ff;border: 1px dotted black;border-radius: 0.25em;box-sizing: border-box;margin-bottom: 0.5em;}#sk-container-id-1 div.sk-estimator:hover {background-color: #d4ebff;}#sk-container-id-1 div.sk-parallel-item::after {content: \"\";width: 100%;border-bottom: 1px solid gray;flex-grow: 1;}#sk-container-id-1 div.sk-label:hover label.sk-toggleable__label {background-color: #d4ebff;}#sk-container-id-1 div.sk-serial::before {content: \"\";position: absolute;border-left: 1px solid gray;box-sizing: border-box;top: 0;bottom: 0;left: 50%;z-index: 0;}#sk-container-id-1 div.sk-serial {display: flex;flex-direction: column;align-items: center;background-color: white;padding-right: 0.2em;padding-left: 0.2em;position: relative;}#sk-container-id-1 div.sk-item {position: relative;z-index: 1;}#sk-container-id-1 div.sk-parallel {display: flex;align-items: stretch;justify-content: center;background-color: white;position: relative;}#sk-container-id-1 div.sk-item::before, #sk-container-id-1 div.sk-parallel-item::before {content: \"\";position: absolute;border-left: 1px solid gray;box-sizing: border-box;top: 0;bottom: 0;left: 50%;z-index: -1;}#sk-container-id-1 div.sk-parallel-item {display: flex;flex-direction: column;z-index: 1;position: relative;background-color: white;}#sk-container-id-1 div.sk-parallel-item:first-child::after {align-self: flex-end;width: 50%;}#sk-container-id-1 div.sk-parallel-item:last-child::after {align-self: flex-start;width: 50%;}#sk-container-id-1 div.sk-parallel-item:only-child::after {width: 0;}#sk-container-id-1 div.sk-dashed-wrapped {border: 1px dashed gray;margin: 0 0.4em 0.5em 0.4em;box-sizing: border-box;padding-bottom: 0.4em;background-color: white;}#sk-container-id-1 div.sk-label label {font-family: monospace;font-weight: bold;display: inline-block;line-height: 1.2em;}#sk-container-id-1 div.sk-label-container {text-align: center;}#sk-container-id-1 div.sk-container {/* jupyter's `normalize.less` sets `[hidden] { display: none; }` but bootstrap.min.css set `[hidden] { display: none !important; }` so we also need the `!important` here to be able to override the default hidden behavior on the sphinx rendered scikit-learn.org. See: https://github.com/scikit-learn/scikit-learn/issues/21755 */display: inline-block !important;position: relative;}#sk-container-id-1 div.sk-text-repr-fallback {display: none;}</style><div id=\"sk-container-id-1\" class=\"sk-top-container\"><div class=\"sk-text-repr-fallback\"><pre>SVC()</pre><b>In a Jupyter environment, please rerun this cell to show the HTML representation or trust the notebook. <br />On GitHub, the HTML representation is unable to render, please try loading this page with nbviewer.org.</b></div><div class=\"sk-container\" hidden><div class=\"sk-item\"><div class=\"sk-estimator sk-toggleable\"><input class=\"sk-toggleable__control sk-hidden--visually\" id=\"sk-estimator-id-1\" type=\"checkbox\" checked><label for=\"sk-estimator-id-1\" class=\"sk-toggleable__label sk-toggleable__label-arrow\">SVC</label><div class=\"sk-toggleable__content\"><pre>SVC()</pre></div></div></div></div></div>"
      ],
      "text/plain": [
       "SVC()"
      ]
     },
     "execution_count": 10,
     "metadata": {},
     "output_type": "execute_result"
    }
   ],
   "source": [
    "clf = svm.SVC()\n",
    "clf.fit(X_train, Y_train)"
   ]
  },
  {
   "cell_type": "code",
   "execution_count": 11,
   "id": "d74e6e65",
   "metadata": {},
   "outputs": [
    {
     "name": "stdout",
     "output_type": "stream",
     "text": [
      "108\n",
      "26\n",
      "206\n",
      "0.5242718446601942\n"
     ]
    }
   ],
   "source": [
    "correct = 0\n",
    "correct_1 = 0\n",
    "for i in range(len(X_test)):\n",
    "    test = [X_test[i]]\n",
    "    pred = clf.predict(test)\n",
    "    if pred[0] == Y_test[i]:\n",
    "        correct += 1\n",
    "        if pred[0] == 1:\n",
    "            correct_1 += 1\n",
    "        \n",
    "print(correct)\n",
    "print(correct_1)\n",
    "print(len(X_test))\n",
    "print(correct/len(X_test))"
   ]
  },
  {
   "cell_type": "code",
   "execution_count": 12,
   "id": "f7f28a88",
   "metadata": {},
   "outputs": [
    {
     "data": {
      "text/plain": [
       "0.3466666666666667"
      ]
     },
     "execution_count": 12,
     "metadata": {},
     "output_type": "execute_result"
    }
   ],
   "source": [
    "from sklearn.metrics import f1_score\n",
    "Y_pred = clf.predict(X_test)\n",
    "f1_score(Y_test, Y_pred, average='binary')"
   ]
  },
  {
   "cell_type": "code",
   "execution_count": 13,
   "id": "cce66c86",
   "metadata": {},
   "outputs": [
    {
     "data": {
      "text/plain": [
       "0.5531914893617021"
      ]
     },
     "execution_count": 13,
     "metadata": {},
     "output_type": "execute_result"
    }
   ],
   "source": [
    "from sklearn.metrics import precision_score\n",
    "Y_pred = clf.predict(X_test)\n",
    "precision_score(Y_test, Y_pred, average='binary')"
   ]
  },
  {
   "cell_type": "code",
   "execution_count": 14,
   "id": "dff5d47b",
   "metadata": {},
   "outputs": [
    {
     "data": {
      "text/plain": [
       "0.2524271844660194"
      ]
     },
     "execution_count": 14,
     "metadata": {},
     "output_type": "execute_result"
    }
   ],
   "source": [
    "from sklearn.metrics import recall_score\n",
    "Y_pred = clf.predict(X_test)\n",
    "recall_score(Y_test, Y_pred, average='binary')"
   ]
  },
  {
   "cell_type": "code",
   "execution_count": null,
   "id": "597975de",
   "metadata": {},
   "outputs": [],
   "source": [
    "ilename = 'svm_wordnet.sav'\n",
    "pickle.dump(model, open(filename, 'wb'))"
   ]
  },
  {
   "cell_type": "markdown",
   "id": "21236ac7",
   "metadata": {},
   "source": [
    "## Neural Net"
   ]
  },
  {
   "cell_type": "code",
   "execution_count": 18,
   "id": "7a231b5c",
   "metadata": {},
   "outputs": [],
   "source": [
    "from tensorflow.keras.models import Sequential\n",
    "from tensorflow.keras.layers import Dense\n",
    "from tensorflow import keras"
   ]
  },
  {
   "cell_type": "code",
   "execution_count": 19,
   "id": "534d1669",
   "metadata": {},
   "outputs": [
    {
     "data": {
      "text/plain": [
       "(1849, 7)"
      ]
     },
     "execution_count": 19,
     "metadata": {},
     "output_type": "execute_result"
    }
   ],
   "source": [
    "np.array(X_train).shape"
   ]
  },
  {
   "cell_type": "code",
   "execution_count": 20,
   "id": "ee5cf4d9",
   "metadata": {},
   "outputs": [
    {
     "data": {
      "text/plain": [
       "(1849,)"
      ]
     },
     "execution_count": 20,
     "metadata": {},
     "output_type": "execute_result"
    }
   ],
   "source": [
    "np.array(Y_train).shape"
   ]
  },
  {
   "cell_type": "code",
   "execution_count": 21,
   "id": "f045760f",
   "metadata": {},
   "outputs": [
    {
     "data": {
      "text/plain": [
       "(7,)"
      ]
     },
     "execution_count": 21,
     "metadata": {},
     "output_type": "execute_result"
    }
   ],
   "source": [
    "input_dim = tuple((7, ))\n",
    "input_dim"
   ]
  },
  {
   "cell_type": "code",
   "execution_count": 22,
   "id": "c0df44de",
   "metadata": {},
   "outputs": [],
   "source": [
    "model = Sequential()\n",
    "model.add(Dense(32, activation = 'relu', input_shape = input_dim))\n",
    "model.add(Dense(16, activation='relu', kernel_regularizer = keras.regularizers.L1L2(l1=1e-5, l2=1e-4)))\n",
    "model.add(Dense(1, activation='sigmoid'))\n",
    "\n",
    "model.compile(optimizer='sgd', loss='binary_crossentropy', metrics=['accuracy'])"
   ]
  },
  {
   "cell_type": "code",
   "execution_count": 23,
   "id": "7b3f9327",
   "metadata": {},
   "outputs": [
    {
     "name": "stdout",
     "output_type": "stream",
     "text": [
      "Model: \"sequential\"\n",
      "_________________________________________________________________\n",
      " Layer (type)                Output Shape              Param #   \n",
      "=================================================================\n",
      " dense (Dense)               (None, 32)                256       \n",
      "                                                                 \n",
      " dense_1 (Dense)             (None, 16)                528       \n",
      "                                                                 \n",
      " dense_2 (Dense)             (None, 1)                 17        \n",
      "                                                                 \n",
      "=================================================================\n",
      "Total params: 801\n",
      "Trainable params: 801\n",
      "Non-trainable params: 0\n",
      "_________________________________________________________________\n"
     ]
    }
   ],
   "source": [
    "model.summary()"
   ]
  },
  {
   "cell_type": "code",
   "execution_count": 24,
   "id": "3574f704",
   "metadata": {},
   "outputs": [
    {
     "name": "stderr",
     "output_type": "stream",
     "text": [
      "2023-05-12 11:59:07.012083: W tensorflow/core/platform/profile_utils/cpu_utils.cc:128] Failed to get CPU frequency: 0 Hz\n"
     ]
    },
    {
     "name": "stdout",
     "output_type": "stream",
     "text": [
      "Epoch 1/300\n",
      "47/47 [==============================] - 0s 2ms/step - loss: 0.7032 - accuracy: 0.4956 - val_loss: 0.7097 - val_accuracy: 0.4676\n",
      "Epoch 2/300\n",
      "47/47 [==============================] - 0s 604us/step - loss: 0.7002 - accuracy: 0.5037 - val_loss: 0.7097 - val_accuracy: 0.4676\n",
      "Epoch 3/300\n",
      "47/47 [==============================] - 0s 504us/step - loss: 0.6991 - accuracy: 0.4990 - val_loss: 0.7050 - val_accuracy: 0.4730\n",
      "Epoch 4/300\n",
      "47/47 [==============================] - 0s 501us/step - loss: 0.6993 - accuracy: 0.4895 - val_loss: 0.7050 - val_accuracy: 0.4649\n",
      "Epoch 5/300\n",
      "47/47 [==============================] - 0s 527us/step - loss: 0.6989 - accuracy: 0.5003 - val_loss: 0.7066 - val_accuracy: 0.4973\n",
      "Epoch 6/300\n",
      "47/47 [==============================] - 0s 509us/step - loss: 0.6977 - accuracy: 0.5024 - val_loss: 0.7091 - val_accuracy: 0.4838\n",
      "Epoch 7/300\n",
      "47/47 [==============================] - 0s 535us/step - loss: 0.6977 - accuracy: 0.5024 - val_loss: 0.7113 - val_accuracy: 0.4730\n",
      "Epoch 8/300\n",
      "47/47 [==============================] - 0s 490us/step - loss: 0.6984 - accuracy: 0.5071 - val_loss: 0.7065 - val_accuracy: 0.4865\n",
      "Epoch 9/300\n",
      "47/47 [==============================] - 0s 513us/step - loss: 0.6984 - accuracy: 0.5030 - val_loss: 0.7118 - val_accuracy: 0.4730\n",
      "Epoch 10/300\n",
      "47/47 [==============================] - 0s 482us/step - loss: 0.6973 - accuracy: 0.5105 - val_loss: 0.7073 - val_accuracy: 0.4757\n",
      "Epoch 11/300\n",
      "47/47 [==============================] - 0s 522us/step - loss: 0.6985 - accuracy: 0.5071 - val_loss: 0.7084 - val_accuracy: 0.4784\n",
      "Epoch 12/300\n",
      "47/47 [==============================] - 0s 488us/step - loss: 0.6975 - accuracy: 0.5057 - val_loss: 0.7066 - val_accuracy: 0.4649\n",
      "Epoch 13/300\n",
      "47/47 [==============================] - 0s 483us/step - loss: 0.6975 - accuracy: 0.5030 - val_loss: 0.7161 - val_accuracy: 0.4703\n",
      "Epoch 14/300\n",
      "47/47 [==============================] - 0s 508us/step - loss: 0.6978 - accuracy: 0.5037 - val_loss: 0.7073 - val_accuracy: 0.4568\n",
      "Epoch 15/300\n",
      "47/47 [==============================] - 0s 487us/step - loss: 0.6959 - accuracy: 0.5294 - val_loss: 0.7075 - val_accuracy: 0.4757\n",
      "Epoch 16/300\n",
      "47/47 [==============================] - 0s 517us/step - loss: 0.6972 - accuracy: 0.5179 - val_loss: 0.7063 - val_accuracy: 0.4703\n",
      "Epoch 17/300\n",
      "47/47 [==============================] - 0s 485us/step - loss: 0.6966 - accuracy: 0.5166 - val_loss: 0.7069 - val_accuracy: 0.4649\n",
      "Epoch 18/300\n",
      "47/47 [==============================] - 0s 517us/step - loss: 0.6964 - accuracy: 0.5139 - val_loss: 0.7080 - val_accuracy: 0.4459\n",
      "Epoch 19/300\n",
      "47/47 [==============================] - 0s 493us/step - loss: 0.6972 - accuracy: 0.5172 - val_loss: 0.7067 - val_accuracy: 0.4676\n",
      "Epoch 20/300\n",
      "47/47 [==============================] - 0s 519us/step - loss: 0.6964 - accuracy: 0.5105 - val_loss: 0.7178 - val_accuracy: 0.4541\n",
      "Epoch 21/300\n",
      "47/47 [==============================] - 0s 504us/step - loss: 0.6964 - accuracy: 0.5166 - val_loss: 0.7084 - val_accuracy: 0.4541\n",
      "Epoch 22/300\n",
      "47/47 [==============================] - 0s 524us/step - loss: 0.6964 - accuracy: 0.5213 - val_loss: 0.7062 - val_accuracy: 0.4622\n",
      "Epoch 23/300\n",
      "47/47 [==============================] - 0s 503us/step - loss: 0.6954 - accuracy: 0.5193 - val_loss: 0.7099 - val_accuracy: 0.4514\n",
      "Epoch 24/300\n",
      "47/47 [==============================] - 0s 514us/step - loss: 0.6949 - accuracy: 0.5328 - val_loss: 0.7068 - val_accuracy: 0.4622\n",
      "Epoch 25/300\n",
      "47/47 [==============================] - 0s 503us/step - loss: 0.6959 - accuracy: 0.5220 - val_loss: 0.7068 - val_accuracy: 0.4838\n",
      "Epoch 26/300\n",
      "47/47 [==============================] - 0s 510us/step - loss: 0.6943 - accuracy: 0.5240 - val_loss: 0.7086 - val_accuracy: 0.4784\n",
      "Epoch 27/300\n",
      "47/47 [==============================] - 0s 508us/step - loss: 0.6953 - accuracy: 0.5199 - val_loss: 0.7059 - val_accuracy: 0.4784\n",
      "Epoch 28/300\n",
      "47/47 [==============================] - 0s 516us/step - loss: 0.6945 - accuracy: 0.5281 - val_loss: 0.7090 - val_accuracy: 0.4459\n",
      "Epoch 29/300\n",
      "47/47 [==============================] - 0s 494us/step - loss: 0.6960 - accuracy: 0.5240 - val_loss: 0.7066 - val_accuracy: 0.4568\n",
      "Epoch 30/300\n",
      "47/47 [==============================] - 0s 481us/step - loss: 0.6929 - accuracy: 0.5247 - val_loss: 0.7114 - val_accuracy: 0.4757\n",
      "Epoch 31/300\n",
      "47/47 [==============================] - 0s 513us/step - loss: 0.6946 - accuracy: 0.5254 - val_loss: 0.7060 - val_accuracy: 0.4757\n",
      "Epoch 32/300\n",
      "47/47 [==============================] - 0s 477us/step - loss: 0.6953 - accuracy: 0.5105 - val_loss: 0.7264 - val_accuracy: 0.4703\n",
      "Epoch 33/300\n",
      "47/47 [==============================] - 0s 501us/step - loss: 0.6967 - accuracy: 0.5213 - val_loss: 0.7058 - val_accuracy: 0.4676\n",
      "Epoch 34/300\n",
      "47/47 [==============================] - 0s 501us/step - loss: 0.6958 - accuracy: 0.5193 - val_loss: 0.7073 - val_accuracy: 0.4838\n",
      "Epoch 35/300\n",
      "47/47 [==============================] - 0s 489us/step - loss: 0.6957 - accuracy: 0.5260 - val_loss: 0.7064 - val_accuracy: 0.4676\n",
      "Epoch 36/300\n",
      "47/47 [==============================] - 0s 506us/step - loss: 0.6949 - accuracy: 0.5213 - val_loss: 0.7117 - val_accuracy: 0.4703\n",
      "Epoch 37/300\n",
      "47/47 [==============================] - 0s 508us/step - loss: 0.6950 - accuracy: 0.5159 - val_loss: 0.7083 - val_accuracy: 0.4838\n",
      "Epoch 38/300\n",
      "47/47 [==============================] - 0s 501us/step - loss: 0.6953 - accuracy: 0.5287 - val_loss: 0.7069 - val_accuracy: 0.4865\n",
      "Epoch 39/300\n",
      "47/47 [==============================] - 0s 487us/step - loss: 0.6948 - accuracy: 0.5301 - val_loss: 0.7072 - val_accuracy: 0.4541\n",
      "Epoch 40/300\n",
      "47/47 [==============================] - 0s 485us/step - loss: 0.6945 - accuracy: 0.5274 - val_loss: 0.7051 - val_accuracy: 0.4676\n",
      "Epoch 41/300\n",
      "47/47 [==============================] - 0s 509us/step - loss: 0.6949 - accuracy: 0.5254 - val_loss: 0.7058 - val_accuracy: 0.4703\n",
      "Epoch 42/300\n",
      "47/47 [==============================] - 0s 488us/step - loss: 0.6953 - accuracy: 0.5254 - val_loss: 0.7051 - val_accuracy: 0.4865\n",
      "Epoch 43/300\n",
      "47/47 [==============================] - 0s 504us/step - loss: 0.6951 - accuracy: 0.5260 - val_loss: 0.7055 - val_accuracy: 0.4865\n",
      "Epoch 44/300\n",
      "47/47 [==============================] - 0s 489us/step - loss: 0.6942 - accuracy: 0.5267 - val_loss: 0.7057 - val_accuracy: 0.4649\n",
      "Epoch 45/300\n",
      "47/47 [==============================] - 0s 498us/step - loss: 0.6941 - accuracy: 0.5274 - val_loss: 0.7106 - val_accuracy: 0.4568\n",
      "Epoch 46/300\n",
      "47/47 [==============================] - 0s 480us/step - loss: 0.6943 - accuracy: 0.5368 - val_loss: 0.7082 - val_accuracy: 0.4432\n",
      "Epoch 47/300\n",
      "47/47 [==============================] - 0s 477us/step - loss: 0.6940 - accuracy: 0.5247 - val_loss: 0.7060 - val_accuracy: 0.4730\n",
      "Epoch 48/300\n",
      "47/47 [==============================] - 0s 508us/step - loss: 0.6937 - accuracy: 0.5314 - val_loss: 0.7049 - val_accuracy: 0.4784\n",
      "Epoch 49/300\n",
      "47/47 [==============================] - 0s 504us/step - loss: 0.6952 - accuracy: 0.5247 - val_loss: 0.7051 - val_accuracy: 0.4865\n",
      "Epoch 50/300\n",
      "47/47 [==============================] - 0s 496us/step - loss: 0.6935 - accuracy: 0.5375 - val_loss: 0.7054 - val_accuracy: 0.4676\n",
      "Epoch 51/300\n",
      "47/47 [==============================] - 0s 496us/step - loss: 0.6947 - accuracy: 0.5172 - val_loss: 0.7076 - val_accuracy: 0.4486\n",
      "Epoch 52/300\n",
      "47/47 [==============================] - 0s 488us/step - loss: 0.6944 - accuracy: 0.5314 - val_loss: 0.7065 - val_accuracy: 0.4622\n",
      "Epoch 53/300\n",
      "47/47 [==============================] - 0s 481us/step - loss: 0.6935 - accuracy: 0.5294 - val_loss: 0.7064 - val_accuracy: 0.4838\n",
      "Epoch 54/300\n",
      "47/47 [==============================] - 0s 508us/step - loss: 0.6943 - accuracy: 0.5328 - val_loss: 0.7086 - val_accuracy: 0.4514\n",
      "Epoch 55/300\n",
      "47/47 [==============================] - 0s 485us/step - loss: 0.6942 - accuracy: 0.5227 - val_loss: 0.7085 - val_accuracy: 0.4541\n",
      "Epoch 56/300\n",
      "47/47 [==============================] - 0s 495us/step - loss: 0.6937 - accuracy: 0.5348 - val_loss: 0.7067 - val_accuracy: 0.4649\n",
      "Epoch 57/300\n",
      "47/47 [==============================] - 0s 495us/step - loss: 0.6938 - accuracy: 0.5321 - val_loss: 0.7052 - val_accuracy: 0.4676\n"
     ]
    },
    {
     "name": "stdout",
     "output_type": "stream",
     "text": [
      "Epoch 58/300\n",
      "47/47 [==============================] - 0s 481us/step - loss: 0.6941 - accuracy: 0.5436 - val_loss: 0.7061 - val_accuracy: 0.4649\n",
      "Epoch 59/300\n",
      "47/47 [==============================] - 0s 493us/step - loss: 0.6940 - accuracy: 0.5348 - val_loss: 0.7061 - val_accuracy: 0.4541\n",
      "Epoch 60/300\n",
      "47/47 [==============================] - 0s 482us/step - loss: 0.6934 - accuracy: 0.5335 - val_loss: 0.7052 - val_accuracy: 0.4622\n",
      "Epoch 61/300\n",
      "47/47 [==============================] - 0s 466us/step - loss: 0.6930 - accuracy: 0.5335 - val_loss: 0.7057 - val_accuracy: 0.4622\n",
      "Epoch 62/300\n",
      "47/47 [==============================] - 0s 496us/step - loss: 0.6942 - accuracy: 0.5287 - val_loss: 0.7060 - val_accuracy: 0.4730\n",
      "Epoch 63/300\n",
      "47/47 [==============================] - 0s 474us/step - loss: 0.6935 - accuracy: 0.5308 - val_loss: 0.7069 - val_accuracy: 0.4757\n",
      "Epoch 64/300\n",
      "47/47 [==============================] - 0s 492us/step - loss: 0.6936 - accuracy: 0.5308 - val_loss: 0.7132 - val_accuracy: 0.4676\n",
      "Epoch 65/300\n",
      "47/47 [==============================] - 0s 479us/step - loss: 0.6935 - accuracy: 0.5341 - val_loss: 0.7054 - val_accuracy: 0.4622\n",
      "Epoch 66/300\n",
      "47/47 [==============================] - 0s 476us/step - loss: 0.6934 - accuracy: 0.5375 - val_loss: 0.7049 - val_accuracy: 0.4757\n",
      "Epoch 67/300\n",
      "47/47 [==============================] - 0s 485us/step - loss: 0.6932 - accuracy: 0.5375 - val_loss: 0.7048 - val_accuracy: 0.4757\n",
      "Epoch 68/300\n",
      "47/47 [==============================] - 0s 482us/step - loss: 0.6931 - accuracy: 0.5423 - val_loss: 0.7154 - val_accuracy: 0.4541\n",
      "Epoch 69/300\n",
      "47/47 [==============================] - 0s 490us/step - loss: 0.6930 - accuracy: 0.5240 - val_loss: 0.7065 - val_accuracy: 0.4649\n",
      "Epoch 70/300\n",
      "47/47 [==============================] - 0s 502us/step - loss: 0.6934 - accuracy: 0.5335 - val_loss: 0.7060 - val_accuracy: 0.4676\n",
      "Epoch 71/300\n",
      "47/47 [==============================] - 0s 489us/step - loss: 0.6926 - accuracy: 0.5375 - val_loss: 0.7100 - val_accuracy: 0.4703\n",
      "Epoch 72/300\n",
      "47/47 [==============================] - 0s 492us/step - loss: 0.6929 - accuracy: 0.5375 - val_loss: 0.7068 - val_accuracy: 0.4703\n",
      "Epoch 73/300\n",
      "47/47 [==============================] - 0s 482us/step - loss: 0.6939 - accuracy: 0.5294 - val_loss: 0.7067 - val_accuracy: 0.4703\n",
      "Epoch 74/300\n",
      "47/47 [==============================] - 0s 500us/step - loss: 0.6940 - accuracy: 0.5328 - val_loss: 0.7082 - val_accuracy: 0.4757\n",
      "Epoch 75/300\n",
      "47/47 [==============================] - 0s 479us/step - loss: 0.6929 - accuracy: 0.5335 - val_loss: 0.7074 - val_accuracy: 0.4595\n",
      "Epoch 76/300\n",
      "47/47 [==============================] - 0s 479us/step - loss: 0.6927 - accuracy: 0.5375 - val_loss: 0.7077 - val_accuracy: 0.4730\n",
      "Epoch 77/300\n",
      "47/47 [==============================] - 0s 475us/step - loss: 0.6934 - accuracy: 0.5335 - val_loss: 0.7067 - val_accuracy: 0.4730\n",
      "Epoch 78/300\n",
      "47/47 [==============================] - 0s 480us/step - loss: 0.6932 - accuracy: 0.5314 - val_loss: 0.7063 - val_accuracy: 0.4784\n",
      "Epoch 79/300\n",
      "47/47 [==============================] - 0s 492us/step - loss: 0.6927 - accuracy: 0.5375 - val_loss: 0.7075 - val_accuracy: 0.4703\n",
      "Epoch 80/300\n",
      "47/47 [==============================] - 0s 551us/step - loss: 0.6931 - accuracy: 0.5341 - val_loss: 0.7061 - val_accuracy: 0.4676\n",
      "Epoch 81/300\n",
      "47/47 [==============================] - 0s 499us/step - loss: 0.6930 - accuracy: 0.5328 - val_loss: 0.7072 - val_accuracy: 0.4784\n",
      "Epoch 82/300\n",
      "47/47 [==============================] - 0s 484us/step - loss: 0.6922 - accuracy: 0.5274 - val_loss: 0.7058 - val_accuracy: 0.4784\n",
      "Epoch 83/300\n",
      "47/47 [==============================] - 0s 484us/step - loss: 0.6930 - accuracy: 0.5335 - val_loss: 0.7058 - val_accuracy: 0.4730\n",
      "Epoch 84/300\n",
      "47/47 [==============================] - 0s 479us/step - loss: 0.6929 - accuracy: 0.5314 - val_loss: 0.7065 - val_accuracy: 0.4703\n",
      "Epoch 85/300\n",
      "47/47 [==============================] - 0s 483us/step - loss: 0.6927 - accuracy: 0.5375 - val_loss: 0.7073 - val_accuracy: 0.4757\n",
      "Epoch 86/300\n",
      "47/47 [==============================] - 0s 488us/step - loss: 0.6924 - accuracy: 0.5294 - val_loss: 0.7063 - val_accuracy: 0.4730\n",
      "Epoch 87/300\n",
      "47/47 [==============================] - 0s 486us/step - loss: 0.6930 - accuracy: 0.5301 - val_loss: 0.7066 - val_accuracy: 0.4757\n",
      "Epoch 88/300\n",
      "47/47 [==============================] - 0s 478us/step - loss: 0.6925 - accuracy: 0.5368 - val_loss: 0.7115 - val_accuracy: 0.4649\n",
      "Epoch 89/300\n",
      "47/47 [==============================] - 0s 490us/step - loss: 0.6932 - accuracy: 0.5301 - val_loss: 0.7061 - val_accuracy: 0.4730\n",
      "Epoch 90/300\n",
      "47/47 [==============================] - 0s 492us/step - loss: 0.6922 - accuracy: 0.5301 - val_loss: 0.7149 - val_accuracy: 0.5054\n",
      "Epoch 91/300\n",
      "47/47 [==============================] - 0s 510us/step - loss: 0.6933 - accuracy: 0.5362 - val_loss: 0.7087 - val_accuracy: 0.4595\n",
      "Epoch 92/300\n",
      "47/47 [==============================] - 0s 488us/step - loss: 0.6922 - accuracy: 0.5348 - val_loss: 0.7066 - val_accuracy: 0.4676\n",
      "Epoch 93/300\n",
      "47/47 [==============================] - 0s 488us/step - loss: 0.6925 - accuracy: 0.5375 - val_loss: 0.7060 - val_accuracy: 0.4838\n",
      "Epoch 94/300\n",
      "47/47 [==============================] - 0s 496us/step - loss: 0.6931 - accuracy: 0.5328 - val_loss: 0.7079 - val_accuracy: 0.4622\n",
      "Epoch 95/300\n",
      "47/47 [==============================] - 0s 490us/step - loss: 0.6918 - accuracy: 0.5396 - val_loss: 0.7063 - val_accuracy: 0.4757\n",
      "Epoch 96/300\n",
      "47/47 [==============================] - 0s 494us/step - loss: 0.6918 - accuracy: 0.5368 - val_loss: 0.7083 - val_accuracy: 0.4568\n",
      "Epoch 97/300\n",
      "47/47 [==============================] - 0s 487us/step - loss: 0.6926 - accuracy: 0.5227 - val_loss: 0.7068 - val_accuracy: 0.4676\n",
      "Epoch 98/300\n",
      "47/47 [==============================] - 0s 485us/step - loss: 0.6918 - accuracy: 0.5355 - val_loss: 0.7097 - val_accuracy: 0.4784\n",
      "Epoch 99/300\n",
      "47/47 [==============================] - 0s 475us/step - loss: 0.6930 - accuracy: 0.5321 - val_loss: 0.7076 - val_accuracy: 0.4649\n",
      "Epoch 100/300\n",
      "47/47 [==============================] - 0s 473us/step - loss: 0.6928 - accuracy: 0.5321 - val_loss: 0.7056 - val_accuracy: 0.4757\n",
      "Epoch 101/300\n",
      "47/47 [==============================] - 0s 484us/step - loss: 0.6917 - accuracy: 0.5362 - val_loss: 0.7065 - val_accuracy: 0.4757\n",
      "Epoch 102/300\n",
      "47/47 [==============================] - 0s 473us/step - loss: 0.6931 - accuracy: 0.5301 - val_loss: 0.7055 - val_accuracy: 0.4757\n",
      "Epoch 103/300\n",
      "47/47 [==============================] - 0s 505us/step - loss: 0.6923 - accuracy: 0.5287 - val_loss: 0.7069 - val_accuracy: 0.4703\n",
      "Epoch 104/300\n",
      "47/47 [==============================] - 0s 481us/step - loss: 0.6923 - accuracy: 0.5328 - val_loss: 0.7061 - val_accuracy: 0.4784\n",
      "Epoch 105/300\n",
      "47/47 [==============================] - 0s 474us/step - loss: 0.6926 - accuracy: 0.5362 - val_loss: 0.7062 - val_accuracy: 0.4784\n",
      "Epoch 106/300\n",
      "47/47 [==============================] - 0s 504us/step - loss: 0.6927 - accuracy: 0.5368 - val_loss: 0.7116 - val_accuracy: 0.4568\n",
      "Epoch 107/300\n",
      "47/47 [==============================] - 0s 479us/step - loss: 0.6930 - accuracy: 0.5260 - val_loss: 0.7063 - val_accuracy: 0.4757\n",
      "Epoch 108/300\n",
      "47/47 [==============================] - 0s 516us/step - loss: 0.6917 - accuracy: 0.5348 - val_loss: 0.7144 - val_accuracy: 0.4568\n",
      "Epoch 109/300\n",
      "47/47 [==============================] - 0s 484us/step - loss: 0.6926 - accuracy: 0.5260 - val_loss: 0.7071 - val_accuracy: 0.4811\n",
      "Epoch 110/300\n",
      "47/47 [==============================] - 0s 491us/step - loss: 0.6922 - accuracy: 0.5301 - val_loss: 0.7058 - val_accuracy: 0.4730\n",
      "Epoch 111/300\n",
      "47/47 [==============================] - 0s 497us/step - loss: 0.6917 - accuracy: 0.5389 - val_loss: 0.7075 - val_accuracy: 0.4730\n",
      "Epoch 112/300\n",
      "47/47 [==============================] - 0s 480us/step - loss: 0.6928 - accuracy: 0.5389 - val_loss: 0.7067 - val_accuracy: 0.4784\n",
      "Epoch 113/300\n",
      "47/47 [==============================] - 0s 570us/step - loss: 0.6920 - accuracy: 0.5362 - val_loss: 0.7063 - val_accuracy: 0.4757\n",
      "Epoch 114/300\n",
      "47/47 [==============================] - 0s 483us/step - loss: 0.6920 - accuracy: 0.5321 - val_loss: 0.7106 - val_accuracy: 0.4595\n"
     ]
    },
    {
     "name": "stdout",
     "output_type": "stream",
     "text": [
      "Epoch 115/300\n",
      "47/47 [==============================] - 0s 506us/step - loss: 0.6923 - accuracy: 0.5301 - val_loss: 0.7076 - val_accuracy: 0.4730\n",
      "Epoch 116/300\n",
      "47/47 [==============================] - 0s 482us/step - loss: 0.6925 - accuracy: 0.5348 - val_loss: 0.7069 - val_accuracy: 0.4811\n",
      "Epoch 117/300\n",
      "47/47 [==============================] - 0s 487us/step - loss: 0.6929 - accuracy: 0.5368 - val_loss: 0.7074 - val_accuracy: 0.4757\n",
      "Epoch 118/300\n",
      "47/47 [==============================] - 0s 477us/step - loss: 0.6923 - accuracy: 0.5328 - val_loss: 0.7059 - val_accuracy: 0.4784\n",
      "Epoch 119/300\n",
      "47/47 [==============================] - 0s 474us/step - loss: 0.6913 - accuracy: 0.5423 - val_loss: 0.7057 - val_accuracy: 0.4784\n",
      "Epoch 120/300\n",
      "47/47 [==============================] - 0s 494us/step - loss: 0.6920 - accuracy: 0.5389 - val_loss: 0.7059 - val_accuracy: 0.4784\n",
      "Epoch 121/300\n",
      "47/47 [==============================] - 0s 483us/step - loss: 0.6923 - accuracy: 0.5335 - val_loss: 0.7059 - val_accuracy: 0.4757\n",
      "Epoch 122/300\n",
      "47/47 [==============================] - 0s 504us/step - loss: 0.6922 - accuracy: 0.5247 - val_loss: 0.7061 - val_accuracy: 0.4784\n",
      "Epoch 123/300\n",
      "47/47 [==============================] - 0s 482us/step - loss: 0.6923 - accuracy: 0.5416 - val_loss: 0.7072 - val_accuracy: 0.4730\n",
      "Epoch 124/300\n",
      "47/47 [==============================] - 0s 483us/step - loss: 0.6916 - accuracy: 0.5321 - val_loss: 0.7074 - val_accuracy: 0.4703\n",
      "Epoch 125/300\n",
      "47/47 [==============================] - 0s 490us/step - loss: 0.6913 - accuracy: 0.5301 - val_loss: 0.7067 - val_accuracy: 0.4757\n",
      "Epoch 126/300\n",
      "47/47 [==============================] - 0s 481us/step - loss: 0.6920 - accuracy: 0.5362 - val_loss: 0.7079 - val_accuracy: 0.4649\n",
      "Epoch 127/300\n",
      "47/47 [==============================] - 0s 482us/step - loss: 0.6921 - accuracy: 0.5348 - val_loss: 0.7064 - val_accuracy: 0.4757\n",
      "Epoch 128/300\n",
      "47/47 [==============================] - 0s 498us/step - loss: 0.6915 - accuracy: 0.5375 - val_loss: 0.7063 - val_accuracy: 0.4784\n",
      "Epoch 129/300\n",
      "47/47 [==============================] - 0s 481us/step - loss: 0.6918 - accuracy: 0.5348 - val_loss: 0.7097 - val_accuracy: 0.4892\n",
      "Epoch 130/300\n",
      "47/47 [==============================] - 0s 484us/step - loss: 0.6927 - accuracy: 0.5274 - val_loss: 0.7075 - val_accuracy: 0.4730\n",
      "Epoch 131/300\n",
      "47/47 [==============================] - 0s 472us/step - loss: 0.6926 - accuracy: 0.5314 - val_loss: 0.7061 - val_accuracy: 0.4811\n",
      "Epoch 132/300\n",
      "47/47 [==============================] - 0s 516us/step - loss: 0.6915 - accuracy: 0.5389 - val_loss: 0.7063 - val_accuracy: 0.4811\n",
      "Epoch 133/300\n",
      "47/47 [==============================] - 0s 486us/step - loss: 0.6921 - accuracy: 0.5375 - val_loss: 0.7069 - val_accuracy: 0.4757\n",
      "Epoch 134/300\n",
      "47/47 [==============================] - 0s 487us/step - loss: 0.6924 - accuracy: 0.5368 - val_loss: 0.7067 - val_accuracy: 0.4811\n",
      "Epoch 135/300\n",
      "47/47 [==============================] - 0s 471us/step - loss: 0.6912 - accuracy: 0.5382 - val_loss: 0.7080 - val_accuracy: 0.4784\n",
      "Epoch 136/300\n",
      "47/47 [==============================] - 0s 482us/step - loss: 0.6920 - accuracy: 0.5368 - val_loss: 0.7081 - val_accuracy: 0.4622\n",
      "Epoch 137/300\n",
      "47/47 [==============================] - 0s 485us/step - loss: 0.6917 - accuracy: 0.5341 - val_loss: 0.7087 - val_accuracy: 0.4595\n",
      "Epoch 138/300\n",
      "47/47 [==============================] - 0s 494us/step - loss: 0.6921 - accuracy: 0.5355 - val_loss: 0.7069 - val_accuracy: 0.4811\n",
      "Epoch 139/300\n",
      "47/47 [==============================] - 0s 490us/step - loss: 0.6914 - accuracy: 0.5368 - val_loss: 0.7065 - val_accuracy: 0.4811\n",
      "Epoch 140/300\n",
      "47/47 [==============================] - 0s 470us/step - loss: 0.6921 - accuracy: 0.5341 - val_loss: 0.7073 - val_accuracy: 0.4757\n",
      "Epoch 141/300\n",
      "47/47 [==============================] - 0s 484us/step - loss: 0.6919 - accuracy: 0.5308 - val_loss: 0.7061 - val_accuracy: 0.4757\n",
      "Epoch 142/300\n",
      "47/47 [==============================] - 0s 504us/step - loss: 0.6917 - accuracy: 0.5396 - val_loss: 0.7073 - val_accuracy: 0.4757\n",
      "Epoch 143/300\n",
      "47/47 [==============================] - 0s 484us/step - loss: 0.6919 - accuracy: 0.5362 - val_loss: 0.7063 - val_accuracy: 0.4757\n",
      "Epoch 144/300\n",
      "47/47 [==============================] - 0s 499us/step - loss: 0.6921 - accuracy: 0.5348 - val_loss: 0.7073 - val_accuracy: 0.4703\n",
      "Epoch 145/300\n",
      "47/47 [==============================] - 0s 469us/step - loss: 0.6922 - accuracy: 0.5355 - val_loss: 0.7065 - val_accuracy: 0.4784\n",
      "Epoch 146/300\n",
      "47/47 [==============================] - 0s 489us/step - loss: 0.6916 - accuracy: 0.5423 - val_loss: 0.7064 - val_accuracy: 0.4757\n",
      "Epoch 147/300\n",
      "47/47 [==============================] - 0s 502us/step - loss: 0.6915 - accuracy: 0.5402 - val_loss: 0.7078 - val_accuracy: 0.4784\n",
      "Epoch 148/300\n",
      "47/47 [==============================] - 0s 488us/step - loss: 0.6915 - accuracy: 0.5396 - val_loss: 0.7069 - val_accuracy: 0.4703\n",
      "Epoch 149/300\n",
      "47/47 [==============================] - 0s 498us/step - loss: 0.6916 - accuracy: 0.5348 - val_loss: 0.7072 - val_accuracy: 0.4757\n",
      "Epoch 150/300\n",
      "47/47 [==============================] - 0s 495us/step - loss: 0.6917 - accuracy: 0.5389 - val_loss: 0.7071 - val_accuracy: 0.4838\n",
      "Epoch 151/300\n",
      "47/47 [==============================] - 0s 484us/step - loss: 0.6915 - accuracy: 0.5348 - val_loss: 0.7089 - val_accuracy: 0.4838\n",
      "Epoch 152/300\n",
      "47/47 [==============================] - 0s 478us/step - loss: 0.6924 - accuracy: 0.5389 - val_loss: 0.7079 - val_accuracy: 0.4703\n",
      "Epoch 153/300\n",
      "47/47 [==============================] - 0s 477us/step - loss: 0.6913 - accuracy: 0.5375 - val_loss: 0.7063 - val_accuracy: 0.4730\n",
      "Epoch 154/300\n",
      "47/47 [==============================] - 0s 502us/step - loss: 0.6913 - accuracy: 0.5423 - val_loss: 0.7065 - val_accuracy: 0.4811\n",
      "Epoch 155/300\n",
      "47/47 [==============================] - 0s 492us/step - loss: 0.6917 - accuracy: 0.5409 - val_loss: 0.7076 - val_accuracy: 0.4703\n",
      "Epoch 156/300\n",
      "47/47 [==============================] - 0s 483us/step - loss: 0.6913 - accuracy: 0.5348 - val_loss: 0.7064 - val_accuracy: 0.4811\n",
      "Epoch 157/300\n",
      "47/47 [==============================] - 0s 504us/step - loss: 0.6914 - accuracy: 0.5416 - val_loss: 0.7069 - val_accuracy: 0.4757\n",
      "Epoch 158/300\n",
      "47/47 [==============================] - 0s 476us/step - loss: 0.6916 - accuracy: 0.5409 - val_loss: 0.7081 - val_accuracy: 0.4811\n",
      "Epoch 159/300\n",
      "47/47 [==============================] - 0s 493us/step - loss: 0.6918 - accuracy: 0.5389 - val_loss: 0.7070 - val_accuracy: 0.4730\n",
      "Epoch 160/300\n",
      "47/47 [==============================] - 0s 493us/step - loss: 0.6917 - accuracy: 0.5335 - val_loss: 0.7106 - val_accuracy: 0.4811\n",
      "Epoch 161/300\n",
      "47/47 [==============================] - 0s 504us/step - loss: 0.6909 - accuracy: 0.5416 - val_loss: 0.7068 - val_accuracy: 0.4757\n",
      "Epoch 162/300\n",
      "47/47 [==============================] - 0s 493us/step - loss: 0.6911 - accuracy: 0.5375 - val_loss: 0.7097 - val_accuracy: 0.5135\n",
      "Epoch 163/300\n",
      "47/47 [==============================] - 0s 485us/step - loss: 0.6917 - accuracy: 0.5436 - val_loss: 0.7069 - val_accuracy: 0.4784\n",
      "Epoch 164/300\n",
      "47/47 [==============================] - 0s 481us/step - loss: 0.6911 - accuracy: 0.5328 - val_loss: 0.7078 - val_accuracy: 0.4703\n",
      "Epoch 165/300\n",
      "47/47 [==============================] - 0s 488us/step - loss: 0.6926 - accuracy: 0.5355 - val_loss: 0.7068 - val_accuracy: 0.4784\n",
      "Epoch 166/300\n",
      "47/47 [==============================] - 0s 483us/step - loss: 0.6919 - accuracy: 0.5402 - val_loss: 0.7077 - val_accuracy: 0.4649\n",
      "Epoch 167/300\n",
      "47/47 [==============================] - 0s 496us/step - loss: 0.6914 - accuracy: 0.5375 - val_loss: 0.7060 - val_accuracy: 0.4757\n",
      "Epoch 168/300\n",
      "47/47 [==============================] - 0s 502us/step - loss: 0.6906 - accuracy: 0.5335 - val_loss: 0.7085 - val_accuracy: 0.4541\n",
      "Epoch 169/300\n",
      "47/47 [==============================] - 0s 487us/step - loss: 0.6912 - accuracy: 0.5382 - val_loss: 0.7062 - val_accuracy: 0.4757\n",
      "Epoch 170/300\n",
      "47/47 [==============================] - 0s 494us/step - loss: 0.6910 - accuracy: 0.5389 - val_loss: 0.7065 - val_accuracy: 0.4811\n",
      "Epoch 171/300\n"
     ]
    },
    {
     "name": "stdout",
     "output_type": "stream",
     "text": [
      "47/47 [==============================] - 0s 518us/step - loss: 0.6907 - accuracy: 0.5409 - val_loss: 0.7080 - val_accuracy: 0.4676\n",
      "Epoch 172/300\n",
      "47/47 [==============================] - 0s 477us/step - loss: 0.6915 - accuracy: 0.5443 - val_loss: 0.7073 - val_accuracy: 0.4703\n",
      "Epoch 173/300\n",
      "47/47 [==============================] - 0s 456us/step - loss: 0.6909 - accuracy: 0.5436 - val_loss: 0.7065 - val_accuracy: 0.4811\n",
      "Epoch 174/300\n",
      "47/47 [==============================] - 0s 478us/step - loss: 0.6909 - accuracy: 0.5409 - val_loss: 0.7104 - val_accuracy: 0.4486\n",
      "Epoch 175/300\n",
      "47/47 [==============================] - 0s 454us/step - loss: 0.6914 - accuracy: 0.5389 - val_loss: 0.7106 - val_accuracy: 0.4541\n",
      "Epoch 176/300\n",
      "47/47 [==============================] - 0s 468us/step - loss: 0.6913 - accuracy: 0.5328 - val_loss: 0.7065 - val_accuracy: 0.4784\n",
      "Epoch 177/300\n",
      "47/47 [==============================] - 0s 465us/step - loss: 0.6912 - accuracy: 0.5416 - val_loss: 0.7083 - val_accuracy: 0.4676\n",
      "Epoch 178/300\n",
      "47/47 [==============================] - 0s 463us/step - loss: 0.6902 - accuracy: 0.5396 - val_loss: 0.7061 - val_accuracy: 0.4730\n",
      "Epoch 179/300\n",
      "47/47 [==============================] - 0s 450us/step - loss: 0.6916 - accuracy: 0.5423 - val_loss: 0.7074 - val_accuracy: 0.4703\n",
      "Epoch 180/300\n",
      "47/47 [==============================] - 0s 461us/step - loss: 0.6914 - accuracy: 0.5287 - val_loss: 0.7060 - val_accuracy: 0.4730\n",
      "Epoch 181/300\n",
      "47/47 [==============================] - 0s 464us/step - loss: 0.6912 - accuracy: 0.5456 - val_loss: 0.7074 - val_accuracy: 0.4703\n",
      "Epoch 182/300\n",
      "47/47 [==============================] - 0s 495us/step - loss: 0.6912 - accuracy: 0.5375 - val_loss: 0.7063 - val_accuracy: 0.4757\n",
      "Epoch 183/300\n",
      "47/47 [==============================] - 0s 458us/step - loss: 0.6913 - accuracy: 0.5335 - val_loss: 0.7060 - val_accuracy: 0.4757\n",
      "Epoch 184/300\n",
      "47/47 [==============================] - 0s 439us/step - loss: 0.6904 - accuracy: 0.5416 - val_loss: 0.7058 - val_accuracy: 0.4757\n",
      "Epoch 185/300\n",
      "47/47 [==============================] - 0s 498us/step - loss: 0.6912 - accuracy: 0.5362 - val_loss: 0.7079 - val_accuracy: 0.4811\n",
      "Epoch 186/300\n",
      "47/47 [==============================] - 0s 455us/step - loss: 0.6913 - accuracy: 0.5341 - val_loss: 0.7087 - val_accuracy: 0.4649\n",
      "Epoch 187/300\n",
      "47/47 [==============================] - 0s 450us/step - loss: 0.6909 - accuracy: 0.5362 - val_loss: 0.7064 - val_accuracy: 0.4703\n",
      "Epoch 188/300\n",
      "47/47 [==============================] - 0s 470us/step - loss: 0.6906 - accuracy: 0.5382 - val_loss: 0.7071 - val_accuracy: 0.4730\n",
      "Epoch 189/300\n",
      "47/47 [==============================] - 0s 435us/step - loss: 0.6900 - accuracy: 0.5402 - val_loss: 0.7088 - val_accuracy: 0.4784\n",
      "Epoch 190/300\n",
      "47/47 [==============================] - 0s 467us/step - loss: 0.6912 - accuracy: 0.5382 - val_loss: 0.7073 - val_accuracy: 0.4811\n",
      "Epoch 191/300\n",
      "47/47 [==============================] - 0s 491us/step - loss: 0.6917 - accuracy: 0.5450 - val_loss: 0.7078 - val_accuracy: 0.4757\n",
      "Epoch 192/300\n",
      "47/47 [==============================] - 0s 480us/step - loss: 0.6908 - accuracy: 0.5402 - val_loss: 0.7066 - val_accuracy: 0.4757\n",
      "Epoch 193/300\n",
      "47/47 [==============================] - 0s 474us/step - loss: 0.6906 - accuracy: 0.5382 - val_loss: 0.7058 - val_accuracy: 0.4676\n",
      "Epoch 194/300\n",
      "47/47 [==============================] - 0s 482us/step - loss: 0.6909 - accuracy: 0.5436 - val_loss: 0.7064 - val_accuracy: 0.4811\n",
      "Epoch 195/300\n",
      "47/47 [==============================] - 0s 477us/step - loss: 0.6914 - accuracy: 0.5335 - val_loss: 0.7068 - val_accuracy: 0.4784\n",
      "Epoch 196/300\n",
      "47/47 [==============================] - 0s 591us/step - loss: 0.6906 - accuracy: 0.5450 - val_loss: 0.7066 - val_accuracy: 0.4730\n",
      "Epoch 197/300\n",
      "47/47 [==============================] - 0s 502us/step - loss: 0.6912 - accuracy: 0.5382 - val_loss: 0.7095 - val_accuracy: 0.4622\n",
      "Epoch 198/300\n",
      "47/47 [==============================] - 0s 473us/step - loss: 0.6909 - accuracy: 0.5355 - val_loss: 0.7072 - val_accuracy: 0.4703\n",
      "Epoch 199/300\n",
      "47/47 [==============================] - 0s 487us/step - loss: 0.6910 - accuracy: 0.5402 - val_loss: 0.7060 - val_accuracy: 0.4784\n",
      "Epoch 200/300\n",
      "47/47 [==============================] - 0s 479us/step - loss: 0.6907 - accuracy: 0.5402 - val_loss: 0.7093 - val_accuracy: 0.4541\n",
      "Epoch 201/300\n",
      "47/47 [==============================] - 0s 473us/step - loss: 0.6918 - accuracy: 0.5375 - val_loss: 0.7059 - val_accuracy: 0.4757\n",
      "Epoch 202/300\n",
      "47/47 [==============================] - 0s 494us/step - loss: 0.6912 - accuracy: 0.5450 - val_loss: 0.7061 - val_accuracy: 0.4649\n",
      "Epoch 203/300\n",
      "47/47 [==============================] - 0s 476us/step - loss: 0.6915 - accuracy: 0.5362 - val_loss: 0.7056 - val_accuracy: 0.4730\n",
      "Epoch 204/300\n",
      "47/47 [==============================] - 0s 473us/step - loss: 0.6904 - accuracy: 0.5382 - val_loss: 0.7067 - val_accuracy: 0.4730\n",
      "Epoch 205/300\n",
      "47/47 [==============================] - 0s 490us/step - loss: 0.6906 - accuracy: 0.5436 - val_loss: 0.7071 - val_accuracy: 0.4757\n",
      "Epoch 206/300\n",
      "47/47 [==============================] - 0s 465us/step - loss: 0.6906 - accuracy: 0.5348 - val_loss: 0.7079 - val_accuracy: 0.4676\n",
      "Epoch 207/300\n",
      "47/47 [==============================] - 0s 472us/step - loss: 0.6917 - accuracy: 0.5335 - val_loss: 0.7067 - val_accuracy: 0.4730\n",
      "Epoch 208/300\n",
      "47/47 [==============================] - 0s 504us/step - loss: 0.6913 - accuracy: 0.5368 - val_loss: 0.7065 - val_accuracy: 0.4784\n",
      "Epoch 209/300\n",
      "47/47 [==============================] - 0s 478us/step - loss: 0.6907 - accuracy: 0.5477 - val_loss: 0.7069 - val_accuracy: 0.4784\n",
      "Epoch 210/300\n",
      "47/47 [==============================] - 0s 494us/step - loss: 0.6905 - accuracy: 0.5321 - val_loss: 0.7068 - val_accuracy: 0.4757\n",
      "Epoch 211/300\n",
      "47/47 [==============================] - 0s 489us/step - loss: 0.6909 - accuracy: 0.5416 - val_loss: 0.7103 - val_accuracy: 0.4541\n",
      "Epoch 212/300\n",
      "47/47 [==============================] - 0s 474us/step - loss: 0.6909 - accuracy: 0.5362 - val_loss: 0.7078 - val_accuracy: 0.4703\n",
      "Epoch 213/300\n",
      "47/47 [==============================] - 0s 509us/step - loss: 0.6913 - accuracy: 0.5382 - val_loss: 0.7069 - val_accuracy: 0.4676\n",
      "Epoch 214/300\n",
      "47/47 [==============================] - 0s 479us/step - loss: 0.6910 - accuracy: 0.5409 - val_loss: 0.7077 - val_accuracy: 0.4622\n",
      "Epoch 215/300\n",
      "47/47 [==============================] - 0s 494us/step - loss: 0.6911 - accuracy: 0.5341 - val_loss: 0.7067 - val_accuracy: 0.4757\n",
      "Epoch 216/300\n",
      "47/47 [==============================] - 0s 486us/step - loss: 0.6905 - accuracy: 0.5368 - val_loss: 0.7095 - val_accuracy: 0.4595\n",
      "Epoch 217/300\n",
      "47/47 [==============================] - 0s 477us/step - loss: 0.6906 - accuracy: 0.5389 - val_loss: 0.7072 - val_accuracy: 0.4730\n",
      "Epoch 218/300\n",
      "47/47 [==============================] - 0s 501us/step - loss: 0.6907 - accuracy: 0.5456 - val_loss: 0.7125 - val_accuracy: 0.4676\n",
      "Epoch 219/300\n",
      "47/47 [==============================] - 0s 470us/step - loss: 0.6909 - accuracy: 0.5402 - val_loss: 0.7089 - val_accuracy: 0.4757\n",
      "Epoch 220/300\n",
      "47/47 [==============================] - 0s 510us/step - loss: 0.6912 - accuracy: 0.5328 - val_loss: 0.7060 - val_accuracy: 0.4703\n",
      "Epoch 221/300\n",
      "47/47 [==============================] - 0s 481us/step - loss: 0.6908 - accuracy: 0.5450 - val_loss: 0.7124 - val_accuracy: 0.4649\n",
      "Epoch 222/300\n",
      "47/47 [==============================] - 0s 487us/step - loss: 0.6909 - accuracy: 0.5348 - val_loss: 0.7071 - val_accuracy: 0.4838\n",
      "Epoch 223/300\n",
      "47/47 [==============================] - 0s 490us/step - loss: 0.6912 - accuracy: 0.5450 - val_loss: 0.7071 - val_accuracy: 0.4676\n",
      "Epoch 224/300\n",
      "47/47 [==============================] - 0s 507us/step - loss: 0.6901 - accuracy: 0.5416 - val_loss: 0.7055 - val_accuracy: 0.4703\n",
      "Epoch 225/300\n",
      "47/47 [==============================] - 0s 487us/step - loss: 0.6907 - accuracy: 0.5416 - val_loss: 0.7065 - val_accuracy: 0.4730\n",
      "Epoch 226/300\n",
      "47/47 [==============================] - 0s 490us/step - loss: 0.6909 - accuracy: 0.5409 - val_loss: 0.7061 - val_accuracy: 0.4757\n",
      "Epoch 227/300\n"
     ]
    },
    {
     "name": "stdout",
     "output_type": "stream",
     "text": [
      "47/47 [==============================] - 0s 475us/step - loss: 0.6902 - accuracy: 0.5450 - val_loss: 0.7104 - val_accuracy: 0.4514\n",
      "Epoch 228/300\n",
      "47/47 [==============================] - 0s 498us/step - loss: 0.6912 - accuracy: 0.5274 - val_loss: 0.7079 - val_accuracy: 0.4703\n",
      "Epoch 229/300\n",
      "47/47 [==============================] - 0s 487us/step - loss: 0.6892 - accuracy: 0.5443 - val_loss: 0.7166 - val_accuracy: 0.4703\n",
      "Epoch 230/300\n",
      "47/47 [==============================] - 0s 495us/step - loss: 0.6902 - accuracy: 0.5375 - val_loss: 0.7073 - val_accuracy: 0.4730\n",
      "Epoch 231/300\n",
      "47/47 [==============================] - 0s 479us/step - loss: 0.6908 - accuracy: 0.5443 - val_loss: 0.7080 - val_accuracy: 0.4757\n",
      "Epoch 232/300\n",
      "47/47 [==============================] - 0s 483us/step - loss: 0.6909 - accuracy: 0.5375 - val_loss: 0.7065 - val_accuracy: 0.4703\n",
      "Epoch 233/300\n",
      "47/47 [==============================] - 0s 479us/step - loss: 0.6902 - accuracy: 0.5341 - val_loss: 0.7065 - val_accuracy: 0.4811\n",
      "Epoch 234/300\n",
      "47/47 [==============================] - 0s 471us/step - loss: 0.6904 - accuracy: 0.5375 - val_loss: 0.7066 - val_accuracy: 0.4757\n",
      "Epoch 235/300\n",
      "47/47 [==============================] - 0s 496us/step - loss: 0.6907 - accuracy: 0.5348 - val_loss: 0.7073 - val_accuracy: 0.4703\n",
      "Epoch 236/300\n",
      "47/47 [==============================] - 0s 486us/step - loss: 0.6908 - accuracy: 0.5436 - val_loss: 0.7099 - val_accuracy: 0.4676\n",
      "Epoch 237/300\n",
      "47/47 [==============================] - 0s 470us/step - loss: 0.6911 - accuracy: 0.5362 - val_loss: 0.7068 - val_accuracy: 0.4757\n",
      "Epoch 238/300\n",
      "47/47 [==============================] - 0s 489us/step - loss: 0.6906 - accuracy: 0.5416 - val_loss: 0.7063 - val_accuracy: 0.4784\n",
      "Epoch 239/300\n",
      "47/47 [==============================] - 0s 547us/step - loss: 0.6909 - accuracy: 0.5443 - val_loss: 0.7068 - val_accuracy: 0.4676\n",
      "Epoch 240/300\n",
      "47/47 [==============================] - 0s 476us/step - loss: 0.6903 - accuracy: 0.5348 - val_loss: 0.7071 - val_accuracy: 0.4784\n",
      "Epoch 241/300\n",
      "47/47 [==============================] - 0s 493us/step - loss: 0.6903 - accuracy: 0.5402 - val_loss: 0.7067 - val_accuracy: 0.4730\n",
      "Epoch 242/300\n",
      "47/47 [==============================] - 0s 495us/step - loss: 0.6910 - accuracy: 0.5429 - val_loss: 0.7069 - val_accuracy: 0.4730\n",
      "Epoch 243/300\n",
      "47/47 [==============================] - 0s 488us/step - loss: 0.6909 - accuracy: 0.5423 - val_loss: 0.7062 - val_accuracy: 0.4757\n",
      "Epoch 244/300\n",
      "47/47 [==============================] - 0s 482us/step - loss: 0.6900 - accuracy: 0.5382 - val_loss: 0.7080 - val_accuracy: 0.4730\n",
      "Epoch 245/300\n",
      "47/47 [==============================] - 0s 487us/step - loss: 0.6913 - accuracy: 0.5368 - val_loss: 0.7103 - val_accuracy: 0.4703\n",
      "Epoch 246/300\n",
      "47/47 [==============================] - 0s 478us/step - loss: 0.6905 - accuracy: 0.5423 - val_loss: 0.7060 - val_accuracy: 0.4676\n",
      "Epoch 247/300\n",
      "47/47 [==============================] - 0s 492us/step - loss: 0.6905 - accuracy: 0.5389 - val_loss: 0.7065 - val_accuracy: 0.4730\n",
      "Epoch 248/300\n",
      "47/47 [==============================] - 0s 487us/step - loss: 0.6904 - accuracy: 0.5443 - val_loss: 0.7059 - val_accuracy: 0.4757\n",
      "Epoch 249/300\n",
      "47/47 [==============================] - 0s 480us/step - loss: 0.6905 - accuracy: 0.5382 - val_loss: 0.7086 - val_accuracy: 0.4595\n",
      "Epoch 250/300\n",
      "47/47 [==============================] - 0s 472us/step - loss: 0.6904 - accuracy: 0.5355 - val_loss: 0.7075 - val_accuracy: 0.4784\n",
      "Epoch 251/300\n",
      "47/47 [==============================] - 0s 475us/step - loss: 0.6908 - accuracy: 0.5443 - val_loss: 0.7107 - val_accuracy: 0.4703\n",
      "Epoch 252/300\n",
      "47/47 [==============================] - 0s 492us/step - loss: 0.6903 - accuracy: 0.5287 - val_loss: 0.7078 - val_accuracy: 0.4784\n",
      "Epoch 253/300\n",
      "47/47 [==============================] - 0s 483us/step - loss: 0.6901 - accuracy: 0.5443 - val_loss: 0.7073 - val_accuracy: 0.4757\n",
      "Epoch 254/300\n",
      "47/47 [==============================] - 0s 471us/step - loss: 0.6908 - accuracy: 0.5389 - val_loss: 0.7086 - val_accuracy: 0.4730\n",
      "Epoch 255/300\n",
      "47/47 [==============================] - 0s 486us/step - loss: 0.6903 - accuracy: 0.5396 - val_loss: 0.7094 - val_accuracy: 0.4757\n",
      "Epoch 256/300\n",
      "47/47 [==============================] - 0s 487us/step - loss: 0.6897 - accuracy: 0.5436 - val_loss: 0.7108 - val_accuracy: 0.4514\n",
      "Epoch 257/300\n",
      "47/47 [==============================] - 0s 485us/step - loss: 0.6911 - accuracy: 0.5287 - val_loss: 0.7064 - val_accuracy: 0.4730\n",
      "Epoch 258/300\n",
      "47/47 [==============================] - 0s 487us/step - loss: 0.6895 - accuracy: 0.5409 - val_loss: 0.7073 - val_accuracy: 0.4784\n",
      "Epoch 259/300\n",
      "47/47 [==============================] - 0s 487us/step - loss: 0.6909 - accuracy: 0.5429 - val_loss: 0.7063 - val_accuracy: 0.4784\n",
      "Epoch 260/300\n",
      "47/47 [==============================] - 0s 494us/step - loss: 0.6900 - accuracy: 0.5409 - val_loss: 0.7073 - val_accuracy: 0.4784\n",
      "Epoch 261/300\n",
      "47/47 [==============================] - 0s 484us/step - loss: 0.6902 - accuracy: 0.5450 - val_loss: 0.7064 - val_accuracy: 0.4676\n",
      "Epoch 262/300\n",
      "47/47 [==============================] - 0s 504us/step - loss: 0.6902 - accuracy: 0.5450 - val_loss: 0.7073 - val_accuracy: 0.4703\n",
      "Epoch 263/300\n",
      "47/47 [==============================] - 0s 498us/step - loss: 0.6906 - accuracy: 0.5375 - val_loss: 0.7077 - val_accuracy: 0.4676\n",
      "Epoch 264/300\n",
      "47/47 [==============================] - 0s 508us/step - loss: 0.6906 - accuracy: 0.5409 - val_loss: 0.7070 - val_accuracy: 0.4703\n",
      "Epoch 265/300\n",
      "47/47 [==============================] - 0s 488us/step - loss: 0.6899 - accuracy: 0.5348 - val_loss: 0.7074 - val_accuracy: 0.4703\n",
      "Epoch 266/300\n",
      "47/47 [==============================] - 0s 486us/step - loss: 0.6896 - accuracy: 0.5429 - val_loss: 0.7071 - val_accuracy: 0.4784\n",
      "Epoch 267/300\n",
      "47/47 [==============================] - 0s 481us/step - loss: 0.6906 - accuracy: 0.5423 - val_loss: 0.7063 - val_accuracy: 0.4730\n",
      "Epoch 268/300\n",
      "47/47 [==============================] - 0s 482us/step - loss: 0.6905 - accuracy: 0.5402 - val_loss: 0.7078 - val_accuracy: 0.4703\n",
      "Epoch 269/300\n",
      "47/47 [==============================] - 0s 491us/step - loss: 0.6899 - accuracy: 0.5470 - val_loss: 0.7066 - val_accuracy: 0.4784\n",
      "Epoch 270/300\n",
      "47/47 [==============================] - 0s 491us/step - loss: 0.6893 - accuracy: 0.5429 - val_loss: 0.7069 - val_accuracy: 0.4784\n",
      "Epoch 271/300\n",
      "47/47 [==============================] - 0s 481us/step - loss: 0.6897 - accuracy: 0.5429 - val_loss: 0.7082 - val_accuracy: 0.4622\n",
      "Epoch 272/300\n",
      "47/47 [==============================] - 0s 484us/step - loss: 0.6902 - accuracy: 0.5389 - val_loss: 0.7078 - val_accuracy: 0.4649\n",
      "Epoch 273/300\n",
      "47/47 [==============================] - 0s 479us/step - loss: 0.6901 - accuracy: 0.5456 - val_loss: 0.7089 - val_accuracy: 0.4595\n",
      "Epoch 274/300\n",
      "47/47 [==============================] - 0s 502us/step - loss: 0.6908 - accuracy: 0.5423 - val_loss: 0.7073 - val_accuracy: 0.4676\n",
      "Epoch 275/300\n",
      "47/47 [==============================] - 0s 508us/step - loss: 0.6903 - accuracy: 0.5396 - val_loss: 0.7072 - val_accuracy: 0.4811\n",
      "Epoch 276/300\n",
      "47/47 [==============================] - 0s 491us/step - loss: 0.6905 - accuracy: 0.5409 - val_loss: 0.7069 - val_accuracy: 0.4757\n",
      "Epoch 277/300\n",
      "47/47 [==============================] - 0s 490us/step - loss: 0.6897 - accuracy: 0.5375 - val_loss: 0.7084 - val_accuracy: 0.5108\n",
      "Epoch 278/300\n",
      "47/47 [==============================] - 0s 478us/step - loss: 0.6908 - accuracy: 0.5477 - val_loss: 0.7070 - val_accuracy: 0.4730\n",
      "Epoch 279/300\n",
      "47/47 [==============================] - 0s 483us/step - loss: 0.6905 - accuracy: 0.5389 - val_loss: 0.7070 - val_accuracy: 0.4676\n",
      "Epoch 280/300\n",
      "47/47 [==============================] - 0s 468us/step - loss: 0.6897 - accuracy: 0.5348 - val_loss: 0.7078 - val_accuracy: 0.4595\n",
      "Epoch 281/300\n",
      "47/47 [==============================] - 0s 519us/step - loss: 0.6895 - accuracy: 0.5463 - val_loss: 0.7072 - val_accuracy: 0.4757\n",
      "Epoch 282/300\n",
      "47/47 [==============================] - 0s 490us/step - loss: 0.6901 - accuracy: 0.5389 - val_loss: 0.7079 - val_accuracy: 0.4730\n",
      "Epoch 283/300\n"
     ]
    },
    {
     "name": "stdout",
     "output_type": "stream",
     "text": [
      "47/47 [==============================] - 0s 507us/step - loss: 0.6900 - accuracy: 0.5375 - val_loss: 0.7085 - val_accuracy: 0.4622\n",
      "Epoch 284/300\n",
      "47/47 [==============================] - 0s 480us/step - loss: 0.6899 - accuracy: 0.5335 - val_loss: 0.7077 - val_accuracy: 0.4730\n",
      "Epoch 285/300\n",
      "47/47 [==============================] - 0s 486us/step - loss: 0.6902 - accuracy: 0.5429 - val_loss: 0.7075 - val_accuracy: 0.4757\n",
      "Epoch 286/300\n",
      "47/47 [==============================] - 0s 475us/step - loss: 0.6905 - accuracy: 0.5429 - val_loss: 0.7075 - val_accuracy: 0.4676\n",
      "Epoch 287/300\n",
      "47/47 [==============================] - 0s 476us/step - loss: 0.6899 - accuracy: 0.5510 - val_loss: 0.7101 - val_accuracy: 0.4703\n",
      "Epoch 288/300\n",
      "47/47 [==============================] - 0s 484us/step - loss: 0.6900 - accuracy: 0.5409 - val_loss: 0.7078 - val_accuracy: 0.4703\n",
      "Epoch 289/300\n",
      "47/47 [==============================] - 0s 484us/step - loss: 0.6903 - accuracy: 0.5402 - val_loss: 0.7071 - val_accuracy: 0.4757\n",
      "Epoch 290/300\n",
      "47/47 [==============================] - 0s 476us/step - loss: 0.6899 - accuracy: 0.5409 - val_loss: 0.7076 - val_accuracy: 0.4811\n",
      "Epoch 291/300\n",
      "47/47 [==============================] - 0s 487us/step - loss: 0.6895 - accuracy: 0.5409 - val_loss: 0.7093 - val_accuracy: 0.4703\n",
      "Epoch 292/300\n",
      "47/47 [==============================] - 0s 492us/step - loss: 0.6903 - accuracy: 0.5368 - val_loss: 0.7071 - val_accuracy: 0.4811\n",
      "Epoch 293/300\n",
      "47/47 [==============================] - 0s 476us/step - loss: 0.6905 - accuracy: 0.5483 - val_loss: 0.7069 - val_accuracy: 0.4784\n",
      "Epoch 294/300\n",
      "47/47 [==============================] - 0s 474us/step - loss: 0.6903 - accuracy: 0.5436 - val_loss: 0.7077 - val_accuracy: 0.4649\n",
      "Epoch 295/300\n",
      "47/47 [==============================] - 0s 464us/step - loss: 0.6904 - accuracy: 0.5429 - val_loss: 0.7078 - val_accuracy: 0.4784\n",
      "Epoch 296/300\n",
      "47/47 [==============================] - 0s 491us/step - loss: 0.6900 - accuracy: 0.5402 - val_loss: 0.7096 - val_accuracy: 0.4595\n",
      "Epoch 297/300\n",
      "47/47 [==============================] - 0s 482us/step - loss: 0.6899 - accuracy: 0.5348 - val_loss: 0.7119 - val_accuracy: 0.4649\n",
      "Epoch 298/300\n",
      "47/47 [==============================] - 0s 473us/step - loss: 0.6910 - accuracy: 0.5301 - val_loss: 0.7070 - val_accuracy: 0.4730\n",
      "Epoch 299/300\n",
      "47/47 [==============================] - 0s 542us/step - loss: 0.6902 - accuracy: 0.5375 - val_loss: 0.7076 - val_accuracy: 0.4838\n",
      "Epoch 300/300\n",
      "47/47 [==============================] - 0s 489us/step - loss: 0.6909 - accuracy: 0.5416 - val_loss: 0.7079 - val_accuracy: 0.4649\n"
     ]
    }
   ],
   "source": [
    "history = model.fit(np.array(X_train), np.array(Y_train), validation_split = 0.2, epochs=300, batch_size=32)"
   ]
  },
  {
   "cell_type": "code",
   "execution_count": 25,
   "id": "53dcbbc6",
   "metadata": {},
   "outputs": [],
   "source": [
    "prediction = model.predict(np.array(X_test))"
   ]
  },
  {
   "cell_type": "code",
   "execution_count": 26,
   "id": "de9af644",
   "metadata": {},
   "outputs": [],
   "source": [
    "prediction_discrete = (prediction > 0.5).astype(np.float32)"
   ]
  },
  {
   "cell_type": "code",
   "execution_count": 27,
   "id": "334cae9f",
   "metadata": {},
   "outputs": [
    {
     "data": {
      "text/plain": [
       "0.5596330275229358"
      ]
     },
     "execution_count": 27,
     "metadata": {},
     "output_type": "execute_result"
    }
   ],
   "source": [
    "from sklearn.metrics import f1_score\n",
    "f1_score(Y_test, prediction_discrete, average='binary')"
   ]
  },
  {
   "cell_type": "code",
   "execution_count": 28,
   "id": "abdf62a7",
   "metadata": {},
   "outputs": [
    {
     "name": "stdout",
     "output_type": "stream",
     "text": [
      "110\n",
      "206\n",
      "0.5339805825242718\n"
     ]
    }
   ],
   "source": [
    "correct = 0\n",
    "for i in range(len(prediction_discrete)):\n",
    "    if prediction_discrete[i] == Y_test[i]:\n",
    "        correct += 1\n",
    "        \n",
    "print(correct)\n",
    "print(len(X_test))\n",
    "print(correct/len(X_test))"
   ]
  },
  {
   "cell_type": "code",
   "execution_count": 29,
   "id": "0323f11e",
   "metadata": {},
   "outputs": [],
   "source": [
    "model_json = model.to_json()\n",
    "with open(\"neural_net_wordnet.json\", \"w\") as json_file:\n",
    "    json_file.write(model_json)\n",
    "# serialize weights to HDF5\n",
    "model.save_weights(\"neural_net_wordnet.h5\")"
   ]
  },
  {
   "cell_type": "markdown",
   "id": "927b1041",
   "metadata": {},
   "source": [
    "# SVR"
   ]
  },
  {
   "cell_type": "code",
   "execution_count": 30,
   "id": "2fa6862f",
   "metadata": {},
   "outputs": [],
   "source": [
    "from sklearn.svm import SVR\n",
    "from sklearn.pipeline import make_pipeline\n",
    "from sklearn.preprocessing import StandardScaler"
   ]
  },
  {
   "cell_type": "code",
   "execution_count": 31,
   "id": "76083693",
   "metadata": {},
   "outputs": [
    {
     "data": {
      "text/html": [
       "<style>#sk-container-id-2 {color: black;background-color: white;}#sk-container-id-2 pre{padding: 0;}#sk-container-id-2 div.sk-toggleable {background-color: white;}#sk-container-id-2 label.sk-toggleable__label {cursor: pointer;display: block;width: 100%;margin-bottom: 0;padding: 0.3em;box-sizing: border-box;text-align: center;}#sk-container-id-2 label.sk-toggleable__label-arrow:before {content: \"▸\";float: left;margin-right: 0.25em;color: #696969;}#sk-container-id-2 label.sk-toggleable__label-arrow:hover:before {color: black;}#sk-container-id-2 div.sk-estimator:hover label.sk-toggleable__label-arrow:before {color: black;}#sk-container-id-2 div.sk-toggleable__content {max-height: 0;max-width: 0;overflow: hidden;text-align: left;background-color: #f0f8ff;}#sk-container-id-2 div.sk-toggleable__content pre {margin: 0.2em;color: black;border-radius: 0.25em;background-color: #f0f8ff;}#sk-container-id-2 input.sk-toggleable__control:checked~div.sk-toggleable__content {max-height: 200px;max-width: 100%;overflow: auto;}#sk-container-id-2 input.sk-toggleable__control:checked~label.sk-toggleable__label-arrow:before {content: \"▾\";}#sk-container-id-2 div.sk-estimator input.sk-toggleable__control:checked~label.sk-toggleable__label {background-color: #d4ebff;}#sk-container-id-2 div.sk-label input.sk-toggleable__control:checked~label.sk-toggleable__label {background-color: #d4ebff;}#sk-container-id-2 input.sk-hidden--visually {border: 0;clip: rect(1px 1px 1px 1px);clip: rect(1px, 1px, 1px, 1px);height: 1px;margin: -1px;overflow: hidden;padding: 0;position: absolute;width: 1px;}#sk-container-id-2 div.sk-estimator {font-family: monospace;background-color: #f0f8ff;border: 1px dotted black;border-radius: 0.25em;box-sizing: border-box;margin-bottom: 0.5em;}#sk-container-id-2 div.sk-estimator:hover {background-color: #d4ebff;}#sk-container-id-2 div.sk-parallel-item::after {content: \"\";width: 100%;border-bottom: 1px solid gray;flex-grow: 1;}#sk-container-id-2 div.sk-label:hover label.sk-toggleable__label {background-color: #d4ebff;}#sk-container-id-2 div.sk-serial::before {content: \"\";position: absolute;border-left: 1px solid gray;box-sizing: border-box;top: 0;bottom: 0;left: 50%;z-index: 0;}#sk-container-id-2 div.sk-serial {display: flex;flex-direction: column;align-items: center;background-color: white;padding-right: 0.2em;padding-left: 0.2em;position: relative;}#sk-container-id-2 div.sk-item {position: relative;z-index: 1;}#sk-container-id-2 div.sk-parallel {display: flex;align-items: stretch;justify-content: center;background-color: white;position: relative;}#sk-container-id-2 div.sk-item::before, #sk-container-id-2 div.sk-parallel-item::before {content: \"\";position: absolute;border-left: 1px solid gray;box-sizing: border-box;top: 0;bottom: 0;left: 50%;z-index: -1;}#sk-container-id-2 div.sk-parallel-item {display: flex;flex-direction: column;z-index: 1;position: relative;background-color: white;}#sk-container-id-2 div.sk-parallel-item:first-child::after {align-self: flex-end;width: 50%;}#sk-container-id-2 div.sk-parallel-item:last-child::after {align-self: flex-start;width: 50%;}#sk-container-id-2 div.sk-parallel-item:only-child::after {width: 0;}#sk-container-id-2 div.sk-dashed-wrapped {border: 1px dashed gray;margin: 0 0.4em 0.5em 0.4em;box-sizing: border-box;padding-bottom: 0.4em;background-color: white;}#sk-container-id-2 div.sk-label label {font-family: monospace;font-weight: bold;display: inline-block;line-height: 1.2em;}#sk-container-id-2 div.sk-label-container {text-align: center;}#sk-container-id-2 div.sk-container {/* jupyter's `normalize.less` sets `[hidden] { display: none; }` but bootstrap.min.css set `[hidden] { display: none !important; }` so we also need the `!important` here to be able to override the default hidden behavior on the sphinx rendered scikit-learn.org. See: https://github.com/scikit-learn/scikit-learn/issues/21755 */display: inline-block !important;position: relative;}#sk-container-id-2 div.sk-text-repr-fallback {display: none;}</style><div id=\"sk-container-id-2\" class=\"sk-top-container\"><div class=\"sk-text-repr-fallback\"><pre>Pipeline(steps=[(&#x27;standardscaler&#x27;, StandardScaler()),\n",
       "                (&#x27;svr&#x27;, SVR(epsilon=0.2))])</pre><b>In a Jupyter environment, please rerun this cell to show the HTML representation or trust the notebook. <br />On GitHub, the HTML representation is unable to render, please try loading this page with nbviewer.org.</b></div><div class=\"sk-container\" hidden><div class=\"sk-item sk-dashed-wrapped\"><div class=\"sk-label-container\"><div class=\"sk-label sk-toggleable\"><input class=\"sk-toggleable__control sk-hidden--visually\" id=\"sk-estimator-id-2\" type=\"checkbox\" ><label for=\"sk-estimator-id-2\" class=\"sk-toggleable__label sk-toggleable__label-arrow\">Pipeline</label><div class=\"sk-toggleable__content\"><pre>Pipeline(steps=[(&#x27;standardscaler&#x27;, StandardScaler()),\n",
       "                (&#x27;svr&#x27;, SVR(epsilon=0.2))])</pre></div></div></div><div class=\"sk-serial\"><div class=\"sk-item\"><div class=\"sk-estimator sk-toggleable\"><input class=\"sk-toggleable__control sk-hidden--visually\" id=\"sk-estimator-id-3\" type=\"checkbox\" ><label for=\"sk-estimator-id-3\" class=\"sk-toggleable__label sk-toggleable__label-arrow\">StandardScaler</label><div class=\"sk-toggleable__content\"><pre>StandardScaler()</pre></div></div></div><div class=\"sk-item\"><div class=\"sk-estimator sk-toggleable\"><input class=\"sk-toggleable__control sk-hidden--visually\" id=\"sk-estimator-id-4\" type=\"checkbox\" ><label for=\"sk-estimator-id-4\" class=\"sk-toggleable__label sk-toggleable__label-arrow\">SVR</label><div class=\"sk-toggleable__content\"><pre>SVR(epsilon=0.2)</pre></div></div></div></div></div></div></div>"
      ],
      "text/plain": [
       "Pipeline(steps=[('standardscaler', StandardScaler()),\n",
       "                ('svr', SVR(epsilon=0.2))])"
      ]
     },
     "execution_count": 31,
     "metadata": {},
     "output_type": "execute_result"
    }
   ],
   "source": [
    "regr = make_pipeline(StandardScaler(), SVR(C=1.0, epsilon=0.2))\n",
    "regr.fit(X_train, Y_train)"
   ]
  },
  {
   "cell_type": "code",
   "execution_count": 32,
   "id": "b1d01f7a",
   "metadata": {},
   "outputs": [
    {
     "name": "stdout",
     "output_type": "stream",
     "text": [
      "109\n",
      "206\n",
      "0.529126213592233\n"
     ]
    }
   ],
   "source": [
    "pred = regr.predict(X_test)\n",
    "prediction_discrete = (pred > 0.5).astype(np.float32)\n",
    "\n",
    "correct = 0\n",
    "for i in range(len(prediction_discrete)):\n",
    "    if prediction_discrete[i] == Y_test[i]:\n",
    "        correct += 1\n",
    "        \n",
    "print(correct)\n",
    "print(len(X_test))\n",
    "print(correct/len(X_test))"
   ]
  },
  {
   "cell_type": "code",
   "execution_count": 33,
   "id": "b4a5a991",
   "metadata": {},
   "outputs": [],
   "source": [
    "Y_pred = clf.predict(X_test)"
   ]
  },
  {
   "cell_type": "code",
   "execution_count": 34,
   "id": "da0b1b08",
   "metadata": {},
   "outputs": [
    {
     "data": {
      "text/plain": [
       "0.3466666666666667"
      ]
     },
     "execution_count": 34,
     "metadata": {},
     "output_type": "execute_result"
    }
   ],
   "source": [
    "from sklearn.metrics import f1_score\n",
    "f1_score(Y_test, Y_pred, average='binary')"
   ]
  },
  {
   "cell_type": "markdown",
   "id": "998ef3b9",
   "metadata": {},
   "source": [
    "## GaussianNB"
   ]
  },
  {
   "cell_type": "code",
   "execution_count": 35,
   "id": "07b05a86",
   "metadata": {},
   "outputs": [],
   "source": [
    "from sklearn.naive_bayes import GaussianNB\n",
    "gnb = GaussianNB()\n",
    "y_pred = gnb.fit(X_train, Y_train).predict(X_test)"
   ]
  },
  {
   "cell_type": "code",
   "execution_count": 36,
   "id": "1c777031",
   "metadata": {},
   "outputs": [
    {
     "name": "stdout",
     "output_type": "stream",
     "text": [
      "109\n",
      "206\n",
      "0.529126213592233\n"
     ]
    }
   ],
   "source": [
    "correct = 0\n",
    "for i in range(len(y_pred)):\n",
    "    if y_pred[i] == Y_test[i]:\n",
    "        correct += 1\n",
    "        \n",
    "print(correct)\n",
    "print(len(X_test))\n",
    "print(correct/len(X_test))"
   ]
  },
  {
   "cell_type": "code",
   "execution_count": 38,
   "id": "2480eb50",
   "metadata": {},
   "outputs": [],
   "source": [
    "pickle.dump(gnb, open('gassiannb_wordnet.sav', 'wb'))"
   ]
  },
  {
   "cell_type": "markdown",
   "id": "d4bf260d",
   "metadata": {},
   "source": [
    "## MultinomialNB"
   ]
  },
  {
   "cell_type": "code",
   "execution_count": 39,
   "id": "1eb70c8c",
   "metadata": {},
   "outputs": [
    {
     "name": "stdout",
     "output_type": "stream",
     "text": [
      "111\n",
      "206\n",
      "0.5388349514563107\n"
     ]
    }
   ],
   "source": [
    "from sklearn.naive_bayes import MultinomialNB\n",
    "clf = MultinomialNB(force_alpha=True)\n",
    "clf.fit(X_train, Y_train)\n",
    "y_pred = clf.predict(X_test)\n",
    "\n",
    "correct = 0\n",
    "for i in range(len(y_pred)):\n",
    "    if y_pred[i] == Y_test[i]:\n",
    "        correct += 1\n",
    "        \n",
    "print(correct)\n",
    "print(len(X_test))\n",
    "print(correct/len(X_test))"
   ]
  },
  {
   "cell_type": "code",
   "execution_count": 40,
   "id": "42cf31aa",
   "metadata": {},
   "outputs": [],
   "source": [
    "pickle.dump(clf, open('multinomialnb_wordnet.sav', 'wb'))"
   ]
  },
  {
   "cell_type": "markdown",
   "id": "7a46db72",
   "metadata": {},
   "source": [
    "## CategoricalNB"
   ]
  },
  {
   "cell_type": "code",
   "execution_count": 41,
   "id": "730cd9a2",
   "metadata": {},
   "outputs": [
    {
     "name": "stdout",
     "output_type": "stream",
     "text": [
      "107\n",
      "206\n",
      "0.5194174757281553\n"
     ]
    }
   ],
   "source": [
    "from sklearn.naive_bayes import CategoricalNB\n",
    "clf = CategoricalNB(force_alpha=True)\n",
    "clf.fit(X_train, Y_train)\n",
    "y_pred = clf.predict(X_test)\n",
    "\n",
    "correct = 0\n",
    "for i in range(len(y_pred)):\n",
    "    if y_pred[i] == Y_test[i]:\n",
    "        correct += 1\n",
    "        \n",
    "print(correct)\n",
    "print(len(X_test))\n",
    "print(correct/len(X_test))"
   ]
  },
  {
   "cell_type": "code",
   "execution_count": 42,
   "id": "884cd77c",
   "metadata": {},
   "outputs": [],
   "source": [
    "pickle.dump(clf, open('categoricalnb_wordnet.sav', 'wb'))"
   ]
  },
  {
   "cell_type": "markdown",
   "id": "87847469",
   "metadata": {},
   "source": [
    "## DecisionTree"
   ]
  },
  {
   "cell_type": "code",
   "execution_count": 44,
   "id": "38fc7b39",
   "metadata": {},
   "outputs": [
    {
     "name": "stdout",
     "output_type": "stream",
     "text": [
      "108\n",
      "206\n",
      "0.5242718446601942\n"
     ]
    }
   ],
   "source": [
    "from sklearn.tree import DecisionTreeClassifier\n",
    "from sklearn.model_selection import cross_val_score\n",
    "clf = DecisionTreeClassifier(random_state=0)\n",
    "clf.fit(X_train, Y_train, check_input=True)\n",
    "\n",
    "y_pred = clf.predict(X_test)\n",
    "correct = 0\n",
    "for i in range(len(y_pred)):\n",
    "    if y_pred[i] == Y_test[i]:\n",
    "        correct += 1\n",
    "        \n",
    "print(correct)\n",
    "print(len(X_test))\n",
    "print(correct/len(X_test))"
   ]
  },
  {
   "cell_type": "code",
   "execution_count": 45,
   "id": "1a8e0a82",
   "metadata": {},
   "outputs": [],
   "source": [
    "pickle.dump(clf, open('decisiontree_wordnet.sav', 'wb'))"
   ]
  },
  {
   "cell_type": "markdown",
   "id": "a8a296d4",
   "metadata": {},
   "source": [
    "## RandomForest"
   ]
  },
  {
   "cell_type": "code",
   "execution_count": 46,
   "id": "616c3b67",
   "metadata": {},
   "outputs": [
    {
     "name": "stdout",
     "output_type": "stream",
     "text": [
      "108\n",
      "206\n",
      "0.5242718446601942\n"
     ]
    }
   ],
   "source": [
    "from sklearn.ensemble import RandomForestClassifier\n",
    "clf = RandomForestClassifier(max_depth=2, random_state=0)\n",
    "clf.fit(X_train, Y_train)\n",
    "\n",
    "y_pred = clf.predict(X_test)\n",
    "correct = 0\n",
    "for i in range(len(y_pred)):\n",
    "    if y_pred[i] == Y_test[i]:\n",
    "        correct += 1\n",
    "        \n",
    "print(correct)\n",
    "print(len(X_test))\n",
    "print(correct/len(X_test))"
   ]
  },
  {
   "cell_type": "code",
   "execution_count": 47,
   "id": "28a3f19a",
   "metadata": {},
   "outputs": [],
   "source": [
    "pickle.dump(clf, open('randomforest_wordnet.sav', 'wb'))"
   ]
  },
  {
   "cell_type": "code",
   "execution_count": null,
   "id": "6d0cb7ac",
   "metadata": {},
   "outputs": [],
   "source": []
  }
 ],
 "metadata": {
  "kernelspec": {
   "display_name": "Python 3 (ipykernel)",
   "language": "python",
   "name": "python3"
  },
  "language_info": {
   "codemirror_mode": {
    "name": "ipython",
    "version": 3
   },
   "file_extension": ".py",
   "mimetype": "text/x-python",
   "name": "python",
   "nbconvert_exporter": "python",
   "pygments_lexer": "ipython3",
   "version": "3.8.15"
  }
 },
 "nbformat": 4,
 "nbformat_minor": 5
}
